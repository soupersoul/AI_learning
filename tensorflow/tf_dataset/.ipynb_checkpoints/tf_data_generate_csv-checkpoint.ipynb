{
 "cells": [
  {
   "cell_type": "code",
   "execution_count": 1,
   "metadata": {},
   "outputs": [
    {
     "name": "stdout",
     "output_type": "stream",
     "text": [
      "2.0.1\n",
      "sys.version_info(major=3, minor=7, micro=4, releaselevel='final', serial=0)\n",
      "matplotlib 3.1.3\n",
      "numpy 1.18.1\n",
      "pandas 1.0.1\n",
      "sklearn 0.22.1\n",
      "tensorflow 2.0.1\n",
      "tensorflow_core.keras 2.2.4-tf\n"
     ]
    }
   ],
   "source": [
    "import matplotlib as mpl\n",
    "import matplotlib.pyplot as plt\n",
    "%matplotlib inline\n",
    "import numpy as np\n",
    "import sklearn\n",
    "import pandas as pd\n",
    "import os\n",
    "import sys\n",
    "import time\n",
    "import tensorflow as tf\n",
    "\n",
    "from tensorflow import keras\n",
    "\n",
    "print(tf.__version__)\n",
    "print(sys.version_info)\n",
    "for module in mpl, np, pd, sklearn, tf, keras:\n",
    "    print(module.__name__, module.__version__)"
   ]
  },
  {
   "cell_type": "code",
   "execution_count": 2,
   "metadata": {},
   "outputs": [
    {
     "name": "stdout",
     "output_type": "stream",
     "text": [
      ".. _california_housing_dataset:\n",
      "\n",
      "California Housing dataset\n",
      "--------------------------\n",
      "\n",
      "**Data Set Characteristics:**\n",
      "\n",
      "    :Number of Instances: 20640\n",
      "\n",
      "    :Number of Attributes: 8 numeric, predictive attributes and the target\n",
      "\n",
      "    :Attribute Information:\n",
      "        - MedInc        median income in block\n",
      "        - HouseAge      median house age in block\n",
      "        - AveRooms      average number of rooms\n",
      "        - AveBedrms     average number of bedrooms\n",
      "        - Population    block population\n",
      "        - AveOccup      average house occupancy\n",
      "        - Latitude      house block latitude\n",
      "        - Longitude     house block longitude\n",
      "\n",
      "    :Missing Attribute Values: None\n",
      "\n",
      "This dataset was obtained from the StatLib repository.\n",
      "http://lib.stat.cmu.edu/datasets/\n",
      "\n",
      "The target variable is the median house value for California districts.\n",
      "\n",
      "This dataset was derived from the 1990 U.S. census, using one row per census\n",
      "block group. A block group is the smallest geographical unit for which the U.S.\n",
      "Census Bureau publishes sample data (a block group typically has a population\n",
      "of 600 to 3,000 people).\n",
      "\n",
      "It can be downloaded/loaded using the\n",
      ":func:`sklearn.datasets.fetch_california_housing` function.\n",
      "\n",
      ".. topic:: References\n",
      "\n",
      "    - Pace, R. Kelley and Ronald Barry, Sparse Spatial Autoregressions,\n",
      "      Statistics and Probability Letters, 33 (1997) 291-297\n",
      "\n",
      "(20640, 8)\n",
      "(20640,)\n"
     ]
    }
   ],
   "source": [
    "from sklearn.datasets import fetch_california_housing\n",
    "\n",
    "housing = fetch_california_housing()\n",
    "\n",
    "print(housing.DESCR)\n",
    "print(housing.data.shape)\n",
    "print(housing.target.shape)"
   ]
  },
  {
   "cell_type": "code",
   "execution_count": 3,
   "metadata": {},
   "outputs": [
    {
     "name": "stdout",
     "output_type": "stream",
     "text": [
      "(11610, 8) (11610,)\n",
      "(3870, 8) (3870,)\n",
      "(5160, 8) (5160,)\n"
     ]
    }
   ],
   "source": [
    "from sklearn.model_selection import train_test_split\n",
    "\n",
    "x_train_all, x_test, y_train_all, y_test = train_test_split(housing.data, housing.target, random_state=7)\n",
    "\n",
    "x_train, x_valid, y_train, y_valid = train_test_split(x_train_all, y_train_all, random_state=11)\n",
    "print(x_train.shape, y_train.shape)\n",
    "print(x_valid.shape, y_valid.shape)\n",
    "print(x_test.shape, y_test.shape)"
   ]
  },
  {
   "cell_type": "code",
   "execution_count": 4,
   "metadata": {},
   "outputs": [],
   "source": [
    "from sklearn.preprocessing import StandardScaler\n",
    "\n",
    "scaler = StandardScaler()\n",
    "x_train_scaled = scaler.fit_transform(x_train)\n",
    "x_valid_scaled = scaler.transform(x_valid)\n",
    "x_test_scaled = scaler.transform(x_test)"
   ]
  },
  {
   "cell_type": "code",
   "execution_count": 6,
   "metadata": {},
   "outputs": [],
   "source": [
    "output_dir = \"./generate_csv\"\n",
    "if not os.path.exists(output_dir):\n",
    "    os.mkdir(output_dir)\n",
    "    \n",
    "def save_to_csv(output_dir, data, name_prefix, header=None, n_parts = 10):\n",
    "    path_format = os.path.join(output_dir, \"{}_{:02d}.csv\")\n",
    "    file_names = []\n",
    "    \n",
    "    for file_idx, row_indices in enumerate(np.array_split(np.arange(len(data)), n_parts)):\n",
    "        part_csv = path_format.format(name_prefix, file_idx)\n",
    "        file_names.append(part_csv)\n",
    "        with open(part_csv, 'wt', encoding=\"utf-8\") as f:\n",
    "            if header is not None:\n",
    "                f.write(header + \"\\n\")\n",
    "            for row_index in row_indices:\n",
    "                f.write(\",\".join(repr(col_t) for col_t in data[row_index]))\n",
    "                f.write(\"\\n\")\n",
    "            \n",
    "    \n",
    "    return file_names\n",
    "\n",
    "# np.c_    merge data by line\n",
    "\n",
    "train_data = np.c_[x_train_scaled, y_train]\n",
    "valid_data = np.c_[x_valid_scaled, y_valid]\n",
    "test_data = np.c_[x_test_scaled, y_test]\n",
    "\n",
    "header_cols = housing.feature_names + [\"MidianHouseValue\"]\n",
    "header_str = \",\".join(header_cols)\n",
    "\n",
    "train_filenames = save_to_csv(output_dir, train_data, \"train\", header_str, n_parts = 20)\n",
    "valid_filenames = save_to_csv(output_dir, valid_data, \"valid\", header_str, n_parts = 10)\n",
    "test_filenames = save_to_csv(output_dir, test_data, \"test\", header_str, n_parts = 10)"
   ]
  },
  {
   "cell_type": "code",
   "execution_count": 12,
   "metadata": {},
   "outputs": [
    {
     "name": "stdout",
     "output_type": "stream",
     "text": [
      "['./generate_csv/train_00.csv',\n",
      " './generate_csv/train_01.csv',\n",
      " './generate_csv/train_02.csv',\n",
      " './generate_csv/train_03.csv',\n",
      " './generate_csv/train_04.csv',\n",
      " './generate_csv/train_05.csv',\n",
      " './generate_csv/train_06.csv',\n",
      " './generate_csv/train_07.csv',\n",
      " './generate_csv/train_08.csv',\n",
      " './generate_csv/train_09.csv',\n",
      " './generate_csv/train_10.csv',\n",
      " './generate_csv/train_11.csv',\n",
      " './generate_csv/train_12.csv',\n",
      " './generate_csv/train_13.csv',\n",
      " './generate_csv/train_14.csv',\n",
      " './generate_csv/train_15.csv',\n",
      " './generate_csv/train_16.csv',\n",
      " './generate_csv/train_17.csv',\n",
      " './generate_csv/train_18.csv',\n",
      " './generate_csv/train_19.csv']\n",
      "['./generate_csv/valid_00.csv',\n",
      " './generate_csv/valid_01.csv',\n",
      " './generate_csv/valid_02.csv',\n",
      " './generate_csv/valid_03.csv',\n",
      " './generate_csv/valid_04.csv',\n",
      " './generate_csv/valid_05.csv',\n",
      " './generate_csv/valid_06.csv',\n",
      " './generate_csv/valid_07.csv',\n",
      " './generate_csv/valid_08.csv',\n",
      " './generate_csv/valid_09.csv']\n",
      "['./generate_csv/test_00.csv',\n",
      " './generate_csv/test_01.csv',\n",
      " './generate_csv/test_02.csv',\n",
      " './generate_csv/test_03.csv',\n",
      " './generate_csv/test_04.csv',\n",
      " './generate_csv/test_05.csv',\n",
      " './generate_csv/test_06.csv',\n",
      " './generate_csv/test_07.csv',\n",
      " './generate_csv/test_08.csv',\n",
      " './generate_csv/test_09.csv']\n"
     ]
    }
   ],
   "source": [
    "import pprint\n",
    "pprint.pprint(train_filenames)\n",
    "pprint.pprint(valid_filenames)\n",
    "pprint.pprint(test_filenames)"
   ]
  },
  {
   "cell_type": "code",
   "execution_count": 13,
   "metadata": {},
   "outputs": [
    {
     "name": "stdout",
     "output_type": "stream",
     "text": [
      "tf.Tensor(b'./generate_csv/train_18.csv', shape=(), dtype=string)\n",
      "tf.Tensor(b'./generate_csv/train_13.csv', shape=(), dtype=string)\n",
      "tf.Tensor(b'./generate_csv/train_03.csv', shape=(), dtype=string)\n",
      "tf.Tensor(b'./generate_csv/train_16.csv', shape=(), dtype=string)\n",
      "tf.Tensor(b'./generate_csv/train_10.csv', shape=(), dtype=string)\n",
      "tf.Tensor(b'./generate_csv/train_05.csv', shape=(), dtype=string)\n",
      "tf.Tensor(b'./generate_csv/train_14.csv', shape=(), dtype=string)\n",
      "tf.Tensor(b'./generate_csv/train_17.csv', shape=(), dtype=string)\n",
      "tf.Tensor(b'./generate_csv/train_01.csv', shape=(), dtype=string)\n",
      "tf.Tensor(b'./generate_csv/train_06.csv', shape=(), dtype=string)\n",
      "tf.Tensor(b'./generate_csv/train_00.csv', shape=(), dtype=string)\n",
      "tf.Tensor(b'./generate_csv/train_12.csv', shape=(), dtype=string)\n",
      "tf.Tensor(b'./generate_csv/train_07.csv', shape=(), dtype=string)\n",
      "tf.Tensor(b'./generate_csv/train_02.csv', shape=(), dtype=string)\n",
      "tf.Tensor(b'./generate_csv/train_11.csv', shape=(), dtype=string)\n",
      "tf.Tensor(b'./generate_csv/train_08.csv', shape=(), dtype=string)\n",
      "tf.Tensor(b'./generate_csv/train_15.csv', shape=(), dtype=string)\n",
      "tf.Tensor(b'./generate_csv/train_19.csv', shape=(), dtype=string)\n",
      "tf.Tensor(b'./generate_csv/train_09.csv', shape=(), dtype=string)\n",
      "tf.Tensor(b'./generate_csv/train_04.csv', shape=(), dtype=string)\n"
     ]
    }
   ],
   "source": [
    "# 1. file_names -> dataset\n",
    "# 2. read csv -> dataset -> datasets ->merge\n",
    "# 3. parse csv\n",
    "filename_dataset = tf.data.Dataset.list_files(train_filenames)\n",
    "for fl in filename_dataset:\n",
    "    print(fl)"
   ]
  },
  {
   "cell_type": "code",
   "execution_count": 14,
   "metadata": {},
   "outputs": [
    {
     "name": "stdout",
     "output_type": "stream",
     "text": [
      "tf.Tensor(b'0.8115083791797953,-0.04823952235146133,0.5187339067174729,-0.029386394873127775,-0.034064024638222286,-0.05081594842905086,-0.7157356834231196,0.9162751241885168,2.147', shape=(), dtype=string)\n",
      "tf.Tensor(b'0.04971034572063198,-0.8492418886278699,-0.06214699417830008,0.17878747064657746,-0.8025354230744277,0.0005066066922077538,0.6466457006743215,-1.1060793768010604,2.286', shape=(), dtype=string)\n",
      "tf.Tensor(b'-0.6672227549433569,-0.04823952235146133,0.34529405473316743,0.5382668657200925,1.8521839533415545,-0.0611253832474835,-0.8417093045554153,1.520484740533546,1.59', shape=(), dtype=string)\n",
      "tf.Tensor(b'-0.09719300311107498,-1.249743071766074,0.36232962250170797,0.026906080250728295,1.033811814747154,0.045881586971778555,1.3418334617377423,-1.6353869745909178,1.832', shape=(), dtype=string)\n",
      "tf.Tensor(b'0.09734603446040174,0.7527628439249472,-0.20218964416999152,-0.1954700015215477,-0.4060513603629498,0.006785531677655949,-0.813715166526018,0.656614793197258,1.119', shape=(), dtype=string)\n",
      "tf.Tensor(b'-0.6906143291679195,-0.1283397589791022,7.0201810347470595,5.624287386169439,-0.2663292879200034,-0.03662080416157129,-0.6457503383496215,1.2058962626018372,1.352', shape=(), dtype=string)\n",
      "tf.Tensor(b'-1.453851024367546,1.874166156711919,-1.1315714708271856,0.3611276016530489,-0.3978857847006997,-0.03273859332533962,-0.7390641317809511,0.646627857389904,1.875', shape=(), dtype=string)\n",
      "tf.Tensor(b'1.5180511450515526,-0.5288409421173064,0.8102470510967439,-0.1921416982863481,0.44135393614167334,0.027335058055345158,-0.8183808561975836,0.8563535093443789,2.898', shape=(), dtype=string)\n",
      "tf.Tensor(b'1.0534699704183814,-0.1283397589791022,0.13509497508586193,-0.2852867771449356,-0.37066719915986596,-0.017744041396267323,0.7586222527919203,-1.1510205879341566,2.674', shape=(), dtype=string)\n",
      "tf.Tensor(b'-1.4803330571456954,-0.6890414153725881,-0.35624704887282904,-0.1725588908792445,-0.8215884329530113,-0.1382309124854157,1.9157132913404298,-1.0211904224385344,0.928', shape=(), dtype=string)\n",
      "tf.Tensor(b'-0.9868720801669367,0.832863080552588,-0.18684708416901633,-0.14888949288707784,-0.4532302419670616,-0.11504995754593579,1.6730974284189664,-0.7465496877362412,1.138', shape=(), dtype=string)\n",
      "tf.Tensor(b'-1.1179501498535522,0.3522616607867429,-0.17415480367337632,0.1029357335256435,-0.24364713330264193,-0.06195252491676357,1.9063819119972951,-1.1210597805120879,0.603', shape=(), dtype=string)\n",
      "tf.Tensor(b'-0.3295635160799086,0.9930635538078697,-0.8771740525217612,-0.3636710820906513,-1.1164564429787098,-0.08510593365640572,1.0665577711153127,-1.38571357940702,1.563', shape=(), dtype=string)\n",
      "tf.Tensor(b'-0.8698076415077927,-0.44874070548966555,0.9621267572121975,3.9409717092762584,-0.9740125119816802,-0.09383082108319943,-0.6690787867074531,1.6752822455475638,0.425', shape=(), dtype=string)\n",
      "tf.Tensor(b'0.21174628471128154,1.1532640270631513,-0.2507761334605016,-0.2564987121705146,-0.6473894854916754,0.017590216427099285,0.7959477701644521,-1.1510205879341566,1.935', shape=(), dtype=string)\n"
     ]
    }
   ],
   "source": [
    "dataset = filename_dataset.interleave(\n",
    "    lambda fl: tf.data.TextLineDataset(fl).skip(1),    # skip: ignores n lines\n",
    "    cycle_length=5\n",
    ")\n",
    "\n",
    "for t in dataset.take(15):\n",
    "    print(t)"
   ]
  },
  {
   "cell_type": "code",
   "execution_count": 9,
   "metadata": {},
   "outputs": [
    {
     "name": "stdout",
     "output_type": "stream",
     "text": [
      "[<tf.Tensor: id=20, shape=(), dtype=int32, numpy=1>, <tf.Tensor: id=21, shape=(), dtype=int32, numpy=2>, <tf.Tensor: id=22, shape=(), dtype=float32, numpy=3.0>, <tf.Tensor: id=23, shape=(), dtype=string, numpy=b'4'>, <tf.Tensor: id=24, shape=(), dtype=float32, numpy=5.0>]\n"
     ]
    }
   ],
   "source": [
    "# tf.io.decode_csv(str, record_defaults)        record_defaults: 每部分数据的类型及默认值\n",
    "sample_str = '1,2,3,4,5'\n",
    "#record_defaults = [tf.constant(0, dtype = tf.int32)] * 5\n",
    "record_defaults = [\n",
    "    tf.constant(0, dtype=tf.int32),\n",
    "    0,\n",
    "    np.nan,\n",
    "    \"hello\",\n",
    "    tf.constant([])\n",
    "]\n",
    "parsed_fields = tf.io.decode_csv(sample_str, record_defaults)\n",
    "print(parsed_fields)"
   ]
  },
  {
   "cell_type": "code",
   "execution_count": 10,
   "metadata": {},
   "outputs": [
    {
     "name": "stdout",
     "output_type": "stream",
     "text": [
      "Field 4 is required but missing in record 0! [Op:DecodeCSV]\n"
     ]
    }
   ],
   "source": [
    "sample_str = \",,,,\"\n",
    "try:\n",
    "    parsed_fields = tf.io.decode_csv(sample_str, record_defaults)\n",
    "except tf.errors.InvalidArgumentError as ex:\n",
    "    print(ex)"
   ]
  },
  {
   "cell_type": "code",
   "execution_count": 11,
   "metadata": {},
   "outputs": [
    {
     "name": "stdout",
     "output_type": "stream",
     "text": [
      "Expect 5 fields but have 8 in record 0 [Op:DecodeCSV]\n"
     ]
    }
   ],
   "source": [
    "sample_str = \"1,2,3,4,5,6,7,8\"\n",
    "try:\n",
    "    parsed_fields = tf.io.decode_csv(sample_str, record_defaults)\n",
    "except tf.errors.InvalidArgumentError as ex:\n",
    "    print(ex)"
   ]
  },
  {
   "cell_type": "code",
   "execution_count": 20,
   "metadata": {},
   "outputs": [
    {
     "name": "stdout",
     "output_type": "stream",
     "text": [
      "<function parse_csv_line at 0x7ff12859cc20>\n"
     ]
    }
   ],
   "source": [
    "def parse_csv_line(line_str, n_fields = 9):\n",
    "    defs = [tf.constant(np.nan)] * n_fields\n",
    "    parsed_fields = tf.io.decode_csv(line_str, record_defaults = defs)\n",
    "    x = tf.stack(parsed_fields[:-1])\n",
    "    y = tf.stack(parsed_fields[-1:])\n",
    "    return x, y\n",
    "\n",
    "print(parse_csv_line)"
   ]
  },
  {
   "cell_type": "code",
   "execution_count": 22,
   "metadata": {},
   "outputs": [
    {
     "name": "stdout",
     "output_type": "stream",
     "text": [
      "x:\n",
      "<tf.Tensor: id=352, shape=(3, 8), dtype=float32, numpy=\n",
      "array([[-1.0591781e+00,  1.3935647e+00, -2.6331969e-02, -1.1006760e-01,\n",
      "        -6.1381990e-01, -9.6959352e-02,  3.2471311e-01, -3.7477244e-02],\n",
      "       [ 6.3034356e-01,  1.8741661e+00, -6.7132145e-02, -1.2543367e-01,\n",
      "        -1.9737554e-01, -2.2722632e-02, -6.9240725e-01,  7.2652334e-01],\n",
      "       [ 4.9710345e-02, -8.4924191e-01, -6.2146995e-02,  1.7878747e-01,\n",
      "        -8.0253541e-01,  5.0660671e-04,  6.4664572e-01, -1.1060793e+00]],\n",
      "      dtype=float32)>\n",
      "y:\n",
      "<tf.Tensor: id=353, shape=(3, 1), dtype=float32, numpy=\n",
      "array([[0.672],\n",
      "       [2.419],\n",
      "       [2.286]], dtype=float32)>\n",
      "x:\n",
      "<tf.Tensor: id=354, shape=(3, 8), dtype=float32, numpy=\n",
      "array([[ 0.81150836, -0.04823952,  0.5187339 , -0.0293864 , -0.03406402,\n",
      "        -0.05081595, -0.7157357 ,  0.91627514],\n",
      "       [ 0.63636464, -1.0895426 ,  0.09260903, -0.20538124,  1.2025671 ,\n",
      "        -0.03630123, -0.6784102 ,  0.18223535],\n",
      "       [-0.22235657,  1.3935647 ,  0.029913  ,  0.0801452 , -0.50948197,\n",
      "        -0.06238599, -0.86503774,  0.86134696]], dtype=float32)>\n",
      "y:\n",
      "<tf.Tensor: id=355, shape=(3, 1), dtype=float32, numpy=\n",
      "array([[2.147],\n",
      "       [2.429],\n",
      "       [2.   ]], dtype=float32)>\n"
     ]
    }
   ],
   "source": [
    "# 1. file_names -> dataset\n",
    "# 2. read csv -> dataset -> datasets ->merge\n",
    "# 3. parse csv\n",
    "\n",
    "def csv_reader_dataset(file_names, n_readers= 5, batch_size=32, n_parse_threads=5, shuffle_buffer_size=10000):\n",
    "    dataset = tf.data.Dataset.list_files(file_names)\n",
    "    dataset = dataset.repeat() # unlimit repeat\n",
    "    dataset = dataset.interleave(\n",
    "        lambda fn: tf.data.TextLineDataset(fn).skip(1),\n",
    "        cycle_length = n_readers\n",
    "    )\n",
    "    dataset.shuffle(shuffle_buffer_size)\n",
    "    dataset = dataset.map(\n",
    "        parse_csv_line,\n",
    "        num_parallel_calls = n_parse_threads\n",
    "    )\n",
    "    dataset = dataset.batch(batch_size)\n",
    "    return dataset\n",
    "    \n",
    "train_set = csv_reader_dataset(train_filenames, batch_size=3)\n",
    "for x_batch, y_batch in train_set.take(2):\n",
    "    print(\"x:\")\n",
    "    pprint.pprint(x_batch)\n",
    "    print(\"y:\")\n",
    "    pprint.pprint(y_batch)"
   ]
  },
  {
   "cell_type": "code",
   "execution_count": 23,
   "metadata": {},
   "outputs": [],
   "source": [
    "train_set = csv_reader_dataset(train_filenames, batch_size=32)\n",
    "valid_set = csv_reader_dataset(valid_filenames, batch_size=32)\n",
    "test_set = csv_reader_dataset(test_filenames, batch_size=32)"
   ]
  },
  {
   "cell_type": "code",
   "execution_count": 25,
   "metadata": {},
   "outputs": [
    {
     "name": "stdout",
     "output_type": "stream",
     "text": [
      "Train for 362 steps, validate for 120 steps\n",
      "Epoch 1/100\n",
      "362/362 [==============================] - 1s 4ms/step - loss: 1.0334 - val_loss: 0.6012\n",
      "Epoch 2/100\n",
      "362/362 [==============================] - 1s 2ms/step - loss: 0.5325 - val_loss: 0.4876\n",
      "Epoch 3/100\n",
      "362/362 [==============================] - 1s 2ms/step - loss: 0.4441 - val_loss: 0.5306\n",
      "Epoch 4/100\n",
      "362/362 [==============================] - 1s 2ms/step - loss: 0.4321 - val_loss: 0.4709\n",
      "Epoch 5/100\n",
      "362/362 [==============================] - 1s 2ms/step - loss: 0.4147 - val_loss: 0.4302\n",
      "Epoch 6/100\n",
      "362/362 [==============================] - 1s 2ms/step - loss: 0.4099 - val_loss: 0.4291\n",
      "Epoch 7/100\n",
      "362/362 [==============================] - 0s 1ms/step - loss: 0.4008 - val_loss: 0.4876\n",
      "Epoch 8/100\n",
      "362/362 [==============================] - 0s 1ms/step - loss: 0.3977 - val_loss: 0.4106\n",
      "Epoch 9/100\n",
      "362/362 [==============================] - 0s 1ms/step - loss: 0.3966 - val_loss: 0.4064\n",
      "Epoch 10/100\n",
      "362/362 [==============================] - 0s 1ms/step - loss: 0.3852 - val_loss: 0.3968\n",
      "Epoch 11/100\n",
      "362/362 [==============================] - 0s 1ms/step - loss: 0.3852 - val_loss: 0.3963\n",
      "Epoch 12/100\n",
      "362/362 [==============================] - 0s 1ms/step - loss: 0.3789 - val_loss: 0.3960\n",
      "Epoch 13/100\n",
      "362/362 [==============================] - 0s 1ms/step - loss: 0.3806 - val_loss: 0.3865\n",
      "Epoch 14/100\n",
      "362/362 [==============================] - 0s 1ms/step - loss: 0.3720 - val_loss: 0.3864\n",
      "Epoch 15/100\n",
      "362/362 [==============================] - 0s 1ms/step - loss: 0.3714 - val_loss: 0.3897\n",
      "Epoch 16/100\n",
      "362/362 [==============================] - 0s 1ms/step - loss: 0.3696 - val_loss: 0.5569\n",
      "Epoch 17/100\n",
      "362/362 [==============================] - 0s 1ms/step - loss: 0.3730 - val_loss: 0.3824\n",
      "Epoch 18/100\n",
      "362/362 [==============================] - 0s 1ms/step - loss: 0.3685 - val_loss: 0.3860\n"
     ]
    }
   ],
   "source": [
    "model = keras.models.Sequential([\n",
    "    keras.layers.Dense(30, activation=\"relu\", input_shape=[8]),\n",
    "    keras.layers.Dense(1)\n",
    "])\n",
    "model.compile(loss=\"mean_squared_error\", optimizer=\"sgd\")\n",
    "callbacks = [keras.callbacks.EarlyStopping(patience=5, min_delta=1e-2)]\n",
    "history = model.fit(train_set, \n",
    "                    steps_per_epoch = 11600 // 32,  # batch_size = 32\n",
    "                    validation_data=valid_set,\n",
    "                    validation_steps = 3870 //32,   # batch_size = 32\n",
    "                   epochs=100, callbacks=callbacks)"
   ]
  },
  {
   "cell_type": "code",
   "execution_count": 26,
   "metadata": {},
   "outputs": [
    {
     "name": "stdout",
     "output_type": "stream",
     "text": [
      "161/161 [==============================] - 0s 878us/step - loss: 0.3911\n"
     ]
    },
    {
     "data": {
      "text/plain": [
       "0.3910891309565639"
      ]
     },
     "execution_count": 26,
     "metadata": {},
     "output_type": "execute_result"
    }
   ],
   "source": [
    "model.evaluate(test_set,\n",
    "              steps = 5160 // 32)"
   ]
  },
  {
   "cell_type": "code",
   "execution_count": null,
   "metadata": {},
   "outputs": [],
   "source": []
  }
 ],
 "metadata": {
  "kernelspec": {
   "display_name": "Python 3",
   "language": "python",
   "name": "python3"
  },
  "language_info": {
   "codemirror_mode": {
    "name": "ipython",
    "version": 3
   },
   "file_extension": ".py",
   "mimetype": "text/x-python",
   "name": "python",
   "nbconvert_exporter": "python",
   "pygments_lexer": "ipython3",
   "version": "3.7.4"
  }
 },
 "nbformat": 4,
 "nbformat_minor": 4
}
