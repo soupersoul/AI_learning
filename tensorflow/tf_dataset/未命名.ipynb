{
 "cells": [
  {
   "cell_type": "code",
   "execution_count": 1,
   "metadata": {},
   "outputs": [],
   "source": [
    "import matplotlib as mpl\n",
    "import matplotlib.pyplot as plt\n",
    "%matplotlib inline\n",
    "import numpy as np\n",
    "import sklearn\n",
    "import pandas as pd\n",
    "import os\n",
    "import sys\n",
    "import time\n",
    "import tensorflow as tf\n",
    "\n",
    "from tensorflow import keras\n"
   ]
  },
  {
   "cell_type": "code",
   "execution_count": 2,
   "metadata": {},
   "outputs": [
    {
     "name": "stdout",
     "output_type": "stream",
     "text": [
      "[[ 0  1  2  3  4]\n",
      " [ 5  6  7  8  9]\n",
      " [10 11 12 13 14]\n",
      " [15 16 17 18 19]\n",
      " [20 21 22 23 24]\n",
      " [25 26 27 28 29]\n",
      " [30 31 32 33 34]\n",
      " [35 36 37 38 39]\n",
      " [40 41 42 43 44]\n",
      " [45 46 47 48 49]\n",
      " [50 51 52 53 54]\n",
      " [55 56 57 58 59]]\n"
     ]
    }
   ],
   "source": [
    "d = np.arange(0,60).reshape([12, 5])\n",
    "print(d)\n"
   ]
  },
  {
   "cell_type": "code",
   "execution_count": 6,
   "metadata": {},
   "outputs": [
    {
     "name": "stdout",
     "output_type": "stream",
     "text": [
      "tf.Tensor([5 6 7 8 9], shape=(5,), dtype=int64)\n",
      "tf.Tensor([0 1 2 3 4], shape=(5,), dtype=int64)\n",
      "tf.Tensor([25 26 27 28 29], shape=(5,), dtype=int64)\n",
      "tf.Tensor([15 16 17 18 19], shape=(5,), dtype=int64)\n",
      "tf.Tensor([20 21 22 23 24], shape=(5,), dtype=int64)\n",
      "tf.Tensor([35 36 37 38 39], shape=(5,), dtype=int64)\n"
     ]
    }
   ],
   "source": [
    "\n",
    "data = tf.data.Dataset.from_tensor_slices(d)\n",
    "\n",
    "data = data.shuffle(buffer_size=4)\n",
    "\n",
    "for i in data.take(6):\n",
    "    print(i)\n",
    "\n"
   ]
  },
  {
   "cell_type": "code",
   "execution_count": 8,
   "metadata": {},
   "outputs": [
    {
     "name": "stdout",
     "output_type": "stream",
     "text": [
      "tf.Tensor(\n",
      "[[ 5  6  7  8  9]\n",
      " [20 21 22 23 24]\n",
      " [ 0  1  2  3  4]], shape=(3, 5), dtype=int64)\n",
      "tf.Tensor(\n",
      "[[30 31 32 33 34]\n",
      " [35 36 37 38 39]\n",
      " [15 16 17 18 19]], shape=(3, 5), dtype=int64)\n",
      "tf.Tensor(\n",
      "[[10 11 12 13 14]\n",
      " [25 26 27 28 29]\n",
      " [55 56 57 58 59]], shape=(3, 5), dtype=int64)\n",
      "tf.Tensor(\n",
      "[[40 41 42 43 44]\n",
      " [45 46 47 48 49]\n",
      " [50 51 52 53 54]], shape=(3, 5), dtype=int64)\n"
     ]
    }
   ],
   "source": [
    "data2 = data.batch(3)\n",
    "for i in data2.take(6):\n",
    "    print(i)"
   ]
  },
  {
   "cell_type": "code",
   "execution_count": null,
   "metadata": {},
   "outputs": [],
   "source": []
  }
 ],
 "metadata": {
  "kernelspec": {
   "display_name": "Python 3",
   "language": "python",
   "name": "python3"
  },
  "language_info": {
   "codemirror_mode": {
    "name": "ipython",
    "version": 3
   },
   "file_extension": ".py",
   "mimetype": "text/x-python",
   "name": "python",
   "nbconvert_exporter": "python",
   "pygments_lexer": "ipython3",
   "version": "3.7.4"
  }
 },
 "nbformat": 4,
 "nbformat_minor": 4
}
