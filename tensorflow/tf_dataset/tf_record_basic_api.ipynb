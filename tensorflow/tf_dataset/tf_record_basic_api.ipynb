{
 "cells": [
  {
   "cell_type": "code",
   "execution_count": 2,
   "metadata": {},
   "outputs": [],
   "source": [
    "import matplotlib as mpl\n",
    "import matplotlib.pyplot as plt\n",
    "%matplotlib inline\n",
    "import numpy as np\n",
    "import sklearn\n",
    "import pandas as pd\n",
    "import os\n",
    "import sys\n",
    "import time\n",
    "import tensorflow as tf\n",
    "\n",
    "from tensorflow import keras\n"
   ]
  },
  {
   "cell_type": "code",
   "execution_count": 3,
   "metadata": {},
   "outputs": [
    {
     "name": "stdout",
     "output_type": "stream",
     "text": [
      "value: \"Java\"\n",
      "value: \"How to\"\n",
      "value: \"cooking\"\n",
      "\n",
      "value: 1.0\n",
      "value: 2.299999952316284\n",
      "value: 6.0\n",
      "\n",
      "value: 43\n",
      "\n",
      "feature {\n",
      "  key: \"age\"\n",
      "  value {\n",
      "    int64_list {\n",
      "      value: 43\n",
      "    }\n",
      "  }\n",
      "}\n",
      "feature {\n",
      "  key: \"favorite_books\"\n",
      "  value {\n",
      "    bytes_list {\n",
      "      value: \"Java\"\n",
      "      value: \"How to\"\n",
      "      value: \"cooking\"\n",
      "    }\n",
      "  }\n",
      "}\n",
      "feature {\n",
      "  key: \"hours\"\n",
      "  value {\n",
      "    float_list {\n",
      "      value: 1.0\n",
      "      value: 2.299999952316284\n",
      "      value: 6.0\n",
      "    }\n",
      "  }\n",
      "}\n",
      "\n"
     ]
    }
   ],
   "source": [
    "# tfrecord file format\n",
    "# -> tf.train.Example\n",
    "#   -> tf.train.Features -> { \"key\": tf.train.Feature }\n",
    "#     -> tf.train.Feature -> tf.train.ByteList/FloatList/Int64List\n",
    "\n",
    "favorite_books = [name.encode(\"utf-8\") for name in [\"Java\", \"How to\", \"cooking\"]]\n",
    "favorite_books_bytelist = tf.train.BytesList(value = favorite_books)\n",
    "print(favorite_books_bytelist)\n",
    "hours_floatlist = tf.train.FloatList(value=[1.0, 2.3, 6.0])\n",
    "print(hours_floatlist)\n",
    "age_int64list = tf.train.Int64List(value=[43])\n",
    "print(age_int64list)\n",
    "\n",
    "features = tf.train.Features(\n",
    "    feature = {\n",
    "        \"favorite_books\": tf.train.Feature(bytes_list = favorite_books_bytelist),\n",
    "        \"hours\": tf.train.Feature(float_list = hours_floatlist),\n",
    "        \"age\": tf.train.Feature(int64_list = age_int64list)\n",
    "    }\n",
    ")\n",
    "print(features)"
   ]
  },
  {
   "cell_type": "code",
   "execution_count": 4,
   "metadata": {},
   "outputs": [
    {
     "name": "stdout",
     "output_type": "stream",
     "text": [
      "features {\n",
      "  feature {\n",
      "    key: \"age\"\n",
      "    value {\n",
      "      int64_list {\n",
      "        value: 43\n",
      "      }\n",
      "    }\n",
      "  }\n",
      "  feature {\n",
      "    key: \"favorite_books\"\n",
      "    value {\n",
      "      bytes_list {\n",
      "        value: \"Java\"\n",
      "        value: \"How to\"\n",
      "        value: \"cooking\"\n",
      "      }\n",
      "    }\n",
      "  }\n",
      "  feature {\n",
      "    key: \"hours\"\n",
      "    value {\n",
      "      float_list {\n",
      "        value: 1.0\n",
      "        value: 2.299999952316284\n",
      "        value: 6.0\n",
      "      }\n",
      "    }\n",
      "  }\n",
      "}\n",
      "\n",
      "b'\\nV\\n\\x19\\n\\x05hours\\x12\\x10\\x12\\x0e\\n\\x0c\\x00\\x00\\x80?33\\x13@\\x00\\x00\\xc0@\\n+\\n\\x0efavorite_books\\x12\\x19\\n\\x17\\n\\x04Java\\n\\x06How to\\n\\x07cooking\\n\\x0c\\n\\x03age\\x12\\x05\\x1a\\x03\\n\\x01+'\n"
     ]
    }
   ],
   "source": [
    "example = tf.train.Example(features = features)\n",
    "print(example)\n",
    "\n",
    "serialized_example = example.SerializeToString()\n",
    "print(serialized_example)"
   ]
  },
  {
   "cell_type": "code",
   "execution_count": 5,
   "metadata": {},
   "outputs": [],
   "source": [
    "output_dir = \"tfrecord_basic\"\n",
    "if not os.path.exists(output_dir):\n",
    "    os.mkdir(output_dir)\n",
    "    \n",
    "filename = \"test.tfrecords\"\n",
    "file_path = os.path.join(output_dir, filename)\n",
    "with tf.io.TFRecordWriter(file_path) as writer:\n",
    "    for i in range(4):\n",
    "        writer.write(serialized_example)"
   ]
  },
  {
   "cell_type": "code",
   "execution_count": 7,
   "metadata": {},
   "outputs": [
    {
     "name": "stdout",
     "output_type": "stream",
     "text": [
      "Java\n",
      "How to\n",
      "cooking\n",
      "Java\n",
      "How to\n",
      "cooking\n",
      "Java\n",
      "How to\n",
      "cooking\n",
      "Java\n",
      "How to\n",
      "cooking\n"
     ]
    }
   ],
   "source": [
    "expected_features = {\n",
    "    \"favorite_books\": tf.io.VarLenFeature(dtype=tf.string),\n",
    "    \"hours\": tf.io.VarLenFeature(dtype = tf.float32),\n",
    "    \"age\": tf.io.FixedLenFeature([], dtype=tf.int64)\n",
    "}\n",
    "dataset = tf.data.TFRecordDataset([file_path])\n",
    "for serialized_example_tensor in dataset:\n",
    "    example = tf.io.parse_single_example(\n",
    "        serialized_example_tensor,\n",
    "        expected_features\n",
    "    )\n",
    "    books = tf.sparse.to_dense(example[\"favorite_books\"], default_value=b\"\")\n",
    "    for b in books:\n",
    "        print(b.numpy().decode(\"utf-8\"))"
   ]
  },
  {
   "cell_type": "code",
   "execution_count": 14,
   "metadata": {},
   "outputs": [],
   "source": [
    "file_path_zip = filename + \".zip\"\n",
    "options = tf.io.TFRecordOptions(compression_type=\"GZIP\")\n",
    "with tf.io.TFRecordWriter(file_path_zip, options) as writer:\n",
    "    for i in range(2):\n",
    "        writer.write(serialized_example)"
   ]
  },
  {
   "cell_type": "code",
   "execution_count": 16,
   "metadata": {},
   "outputs": [
    {
     "name": "stdout",
     "output_type": "stream",
     "text": [
      "Java\n",
      "How to\n",
      "cooking\n",
      "Java\n",
      "How to\n",
      "cooking\n"
     ]
    }
   ],
   "source": [
    "dataset_zip = tf.data.TFRecordDataset([file_path_zip], compression_type=\"GZIP\")\n",
    "for serialized_example_tensor in dataset_zip:\n",
    "    example = tf.io.parse_single_example(\n",
    "        serialized_example_tensor,\n",
    "        expected_features\n",
    "    )\n",
    "    books = tf.sparse.to_dense(example[\"favorite_books\"], default_value=b\"\")\n",
    "    for b in books:\n",
    "        print(b.numpy().decode(\"utf-8\"))"
   ]
  },
  {
   "cell_type": "code",
   "execution_count": null,
   "metadata": {},
   "outputs": [],
   "source": []
  }
 ],
 "metadata": {
  "kernelspec": {
   "display_name": "Python 3",
   "language": "python",
   "name": "python3"
  },
  "language_info": {
   "codemirror_mode": {
    "name": "ipython",
    "version": 3
   },
   "file_extension": ".py",
   "mimetype": "text/x-python",
   "name": "python",
   "nbconvert_exporter": "python",
   "pygments_lexer": "ipython3",
   "version": "3.7.4"
  }
 },
 "nbformat": 4,
 "nbformat_minor": 4
}
