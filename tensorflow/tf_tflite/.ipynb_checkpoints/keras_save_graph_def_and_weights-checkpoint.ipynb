{
 "cells": [
  {
   "cell_type": "code",
   "execution_count": 2,
   "metadata": {},
   "outputs": [
    {
     "name": "stdout",
     "output_type": "stream",
     "text": [
      "2.1.0\n",
      "sys.version_info(major=3, minor=6, micro=9, releaselevel='final', serial=0)\n",
      "matplotlib 3.1.3\n",
      "numpy 1.18.1\n",
      "pandas 1.0.1\n",
      "sklearn 0.22.1\n",
      "tensorflow 2.1.0\n",
      "tensorflow_core.python.keras.api._v2.keras 2.2.4-tf\n"
     ]
    }
   ],
   "source": [
    "import matplotlib as mpl\n",
    "import matplotlib.pyplot as plt\n",
    "%matplotlib inline\n",
    "import numpy as np\n",
    "import sklearn\n",
    "import pandas as pd\n",
    "import os\n",
    "import sys\n",
    "import time\n",
    "import tensorflow as tf\n",
    "\n",
    "from tensorflow import keras\n",
    "\n",
    "print(tf.__version__)\n",
    "print(sys.version_info)\n",
    "for module in mpl, np, pd, sklearn, tf, keras:\n",
    "    print(module.__name__, module.__version__)"
   ]
  },
  {
   "cell_type": "code",
   "execution_count": 3,
   "metadata": {},
   "outputs": [
    {
     "name": "stdout",
     "output_type": "stream",
     "text": [
      "(5000, 28, 28) (5000,)\n",
      "(55000, 28, 28) (55000,)\n",
      "(10000, 28, 28) (10000,)\n"
     ]
    }
   ],
   "source": [
    "fashion_mnist = keras.datasets.fashion_mnist\n",
    "(x_train_all, y_train_all), (x_test, y_test) = fashion_mnist.load_data()\n",
    "x_valid, x_train = x_train_all[:5000], x_train_all[5000:]\n",
    "y_valid, y_train = y_train_all[:5000], y_train_all[5000:]\n",
    "print(x_valid.shape, y_valid.shape)\n",
    "print(x_train.shape, y_train.shape)\n",
    "print(x_test.shape, y_test.shape)\n"
   ]
  },
  {
   "cell_type": "code",
   "execution_count": 4,
   "metadata": {},
   "outputs": [],
   "source": [
    "# tf.keras.models.Sequential()\n",
    "'''\n",
    "model = keras.models.Sequential()\n",
    "model.add(keras.layers.Flatten(input_shape=[28, 28]))\n",
    "model.add(keras.layers.Dense(300, activation='relu'))\n",
    "model.add(keras.layers.Dense(100, activation='relu'))\n",
    "model.add(keras.layers.Dense(10, activation='softmax'))\n",
    "'''\n",
    "model = keras.models.Sequential([\n",
    "    keras.layers.Flatten(input_shape=[28, 28]),\n",
    "    keras.layers.Dense(300, activation=\"relu\"),\n",
    "    keras.layers.Dense(100, activation=\"relu\"),\n",
    "    keras.layers.Dense(10, activation=\"softmax\")\n",
    "])\n",
    "# relu: y = max(0, x)\n",
    "# softmax: 将向量变成概率分布。\n",
    "# x = [x1, x2, x3]\n",
    "# y = [e^x1/sum, e^x2/sum, e^x3/sum],   sum = e^x1 + e^x2 + e^x3\n",
    "\n",
    "# reason for sparse:\n",
    "# 若y是index(一维index值)，则用sparse转为向量    sparse_categorical_crossentropy\n",
    "# 若y是one_hot(即y已经是向量)，则不需要sparse    categorical_crossentropy\n",
    "model.compile(loss=\"sparse_categorical_crossentropy\", optimizer=\"sgd\", metrics=[\"accuracy\"])"
   ]
  },
  {
   "cell_type": "code",
   "execution_count": 5,
   "metadata": {},
   "outputs": [],
   "source": [
    "# 归一化 x = (x - u) / std\n",
    "\n",
    "from sklearn.preprocessing import StandardScaler\n",
    "scaler = StandardScaler()\n",
    "x_train_scaled = scaler.fit_transform(x_train.astype(np.float32).reshape(-1, 1)).reshape(-1, 28, 28)\n",
    "x_valid_scaled = scaler.transform(x_valid.astype(np.float32).reshape(-1, 1)).reshape(-1, 28, 28)\n",
    "x_test_scaled = scaler.transform(x_test.astype(np.float32).reshape(-1, 1)).reshape(-1, 28, 28)"
   ]
  },
  {
   "cell_type": "code",
   "execution_count": 7,
   "metadata": {},
   "outputs": [
    {
     "name": "stdout",
     "output_type": "stream",
     "text": [
      "Train on 55000 samples, validate on 5000 samples\n",
      "Epoch 1/10\n",
      "55000/55000 [==============================] - 9s 163us/sample - loss: 0.5339 - accuracy: 0.8127 - val_loss: 0.4110 - val_accuracy: 0.8586\n",
      "Epoch 2/10\n",
      "55000/55000 [==============================] - 5s 94us/sample - loss: 0.3900 - accuracy: 0.8608 - val_loss: 0.3705 - val_accuracy: 0.8672\n",
      "Epoch 3/10\n",
      "55000/55000 [==============================] - 5s 88us/sample - loss: 0.3529 - accuracy: 0.8735 - val_loss: 0.3628 - val_accuracy: 0.8690\n",
      "Epoch 4/10\n",
      "55000/55000 [==============================] - 5s 87us/sample - loss: 0.3286 - accuracy: 0.8813 - val_loss: 0.3373 - val_accuracy: 0.8780\n",
      "Epoch 5/10\n",
      "55000/55000 [==============================] - 5s 91us/sample - loss: 0.3099 - accuracy: 0.8862 - val_loss: 0.3317 - val_accuracy: 0.8812\n",
      "Epoch 6/10\n",
      "55000/55000 [==============================] - 5s 87us/sample - loss: 0.2938 - accuracy: 0.8933 - val_loss: 0.3171 - val_accuracy: 0.8862\n",
      "Epoch 7/10\n",
      "55000/55000 [==============================] - 5s 88us/sample - loss: 0.2808 - accuracy: 0.8985 - val_loss: 0.3206 - val_accuracy: 0.8822\n",
      "Epoch 8/10\n",
      "55000/55000 [==============================] - 5s 92us/sample - loss: 0.2689 - accuracy: 0.9017 - val_loss: 0.3115 - val_accuracy: 0.8852\n",
      "Epoch 9/10\n",
      "55000/55000 [==============================] - 5s 90us/sample - loss: 0.2586 - accuracy: 0.9051 - val_loss: 0.3042 - val_accuracy: 0.8900\n",
      "Epoch 10/10\n",
      "55000/55000 [==============================] - 5s 87us/sample - loss: 0.2487 - accuracy: 0.9096 - val_loss: 0.2956 - val_accuracy: 0.8930\n"
     ]
    }
   ],
   "source": [
    "# TensorBoard, EarlyStopping, ModelCheckpoint\n",
    "logdir = \"./graph_def_and_weights\"\n",
    "if not os.path.exists(logdir):\n",
    "    os.mkdir(logdir)\n",
    "output_model_file = os.path.join(logdir, \"fashion_mnist_model.h5\")\n",
    "callbacks = [\n",
    "    keras.callbacks.TensorBoard(logdir),\n",
    "    keras.callbacks.EarlyStopping(patience=5, min_delta=1e-3),\n",
    "    keras.callbacks.ModelCheckpoint(output_model_file, save_best_only=True, save_weights_only=False)\n",
    "]\n",
    "history = model.fit(x_train_scaled, y_train, epochs=10, validation_data=(x_valid_scaled, y_valid), callbacks = callbacks)"
   ]
  },
  {
   "cell_type": "code",
   "execution_count": 8,
   "metadata": {},
   "outputs": [
    {
     "data": {
      "image/png": "[encoded data removed]",
      "text/plain": [
       "<Figure size 576x360 with 1 Axes>"
      ]
     },
     "metadata": {
      "needs_background": "light"
     },
     "output_type": "display_data"
    }
   ],
   "source": [
    "def plot_learning_curves(history):\n",
    "    pd.DataFrame(history.history).plot(figsize=[8, 5])\n",
    "    plt.grid(True)\n",
    "    plt.gca().set_ylim(0, 1)\n",
    "    plt.show()\n",
    "    \n",
    "plot_learning_curves(history)"
   ]
  },
  {
   "cell_type": "code",
   "execution_count": 9,
   "metadata": {},
   "outputs": [
    {
     "name": "stdout",
     "output_type": "stream",
     "text": [
      "10000/10000 [==============================] - 1s 55us/sample - loss: 0.3373 - accuracy: 0.8791\n"
     ]
    },
    {
     "data": {
      "text/plain": [
       "[0.33731333055496215, 0.8791]"
      ]
     },
     "execution_count": 9,
     "metadata": {},
     "output_type": "execute_result"
    }
   ],
   "source": [
    "model.evaluate(x_test_scaled, y_test)"
   ]
  },
  {
   "cell_type": "code",
   "execution_count": null,
   "metadata": {},
   "outputs": [],
   "source": [
    "loaded_model = keras.models.load_model(output_model_file)\n",
    "loaded_model.evaluate(x_test_scaled, y_test)"
   ]
  },
  {
   "cell_type": "code",
   "execution_count": null,
   "metadata": {},
   "outputs": [],
   "source": [
    "model.save_weights(os.path.join(logdir, \"fashion_mnist_weights_2.h5\"))"
   ]
  }
 ],
 "metadata": {
  "kernelspec": {
   "display_name": "Python 3",
   "language": "python",
   "name": "python3"
  },
  "language_info": {
   "codemirror_mode": {
    "name": "ipython",
    "version": 3
   },
   "file_extension": ".py",
   "mimetype": "text/x-python",
   "name": "python",
   "nbconvert_exporter": "python",
   "pygments_lexer": "ipython3",
   "version": "3.7.4"
  }
 },
 "nbformat": 4,
 "nbformat_minor": 4
}
