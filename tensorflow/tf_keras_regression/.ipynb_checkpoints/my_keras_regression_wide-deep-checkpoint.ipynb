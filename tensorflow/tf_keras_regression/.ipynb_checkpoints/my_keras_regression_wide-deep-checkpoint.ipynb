{
 "cells": [
  {
   "cell_type": "code",
   "execution_count": 3,
   "metadata": {},
   "outputs": [
    {
     "name": "stdout",
     "output_type": "stream",
     "text": [
      "sys.version_info(major=3, minor=7, micro=4, releaselevel='final', serial=0)\n",
      "tensorflow 2.0.1\n",
      "pandas 1.0.1\n",
      "numpy 1.18.1\n",
      "matplotlib 3.1.3\n",
      "sklearn 0.22.1\n",
      "tensorflow_core.keras 2.2.4-tf\n"
     ]
    }
   ],
   "source": [
    "import pandas as pd\n",
    "import numpy as np\n",
    "import matplotlib as mpl\n",
    "%matplotlib inline\n",
    "import matplotlib.pyplot as plt\n",
    "import tensorflow as tf\n",
    "import sklearn\n",
    "from tensorflow import keras\n",
    "import sys\n",
    "import os\n",
    "import time\n",
    "\n",
    "print(sys.version_info)\n",
    "for lib in (tf, pd, np, mpl, sklearn, keras):\n",
    "    print(lib.__name__, lib.__version__)\n"
   ]
  },
  {
   "cell_type": "code",
   "execution_count": 5,
   "metadata": {},
   "outputs": [
    {
     "name": "stderr",
     "output_type": "stream",
     "text": [
      "Downloading Cal. housing from https://ndownloader.figshare.com/files/5976036 to /home/zx/scikit_learn_data\n"
     ]
    },
    {
     "name": "stdout",
     "output_type": "stream",
     "text": [
      "(20640, 8)\n",
      "(20640,)\n"
     ]
    }
   ],
   "source": [
    "from sklearn.datasets import fetch_california_housing\n",
    "housing = fetch_california_housing()\n",
    "print(housing.data.shape)\n",
    "print(housing.target.shape)"
   ]
  },
  {
   "cell_type": "code",
   "execution_count": 7,
   "metadata": {},
   "outputs": [
    {
     "name": "stdout",
     "output_type": "stream",
     "text": [
      "(11610, 8)\n",
      "(3870, 8)\n",
      "(5160, 8)\n"
     ]
    }
   ],
   "source": [
    "from sklearn.model_selection import train_test_split\n",
    "x_train_all, x_test, y_train_all, y_test = train_test_split(housing.data, housing.target, random_state=7)\n",
    "x_train, x_valid, y_train, y_valid = train_test_split(x_train_all, y_train_all, random_state=11)\n",
    "print(x_train.shape)\n",
    "print(x_valid.shape)\n",
    "print(x_test.shape)"
   ]
  },
  {
   "cell_type": "code",
   "execution_count": 9,
   "metadata": {},
   "outputs": [],
   "source": [
    "from sklearn.preprocessing import StandardScaler\n",
    "scaler = StandardScaler()\n",
    "x_train_scaled = scaler.fit_transform(x_train)\n",
    "x_valid_scaled = scaler.transform(x_valid)\n",
    "x_test_scaled = scaler.transform(x_test)"
   ]
  },
  {
   "cell_type": "code",
   "execution_count": 11,
   "metadata": {},
   "outputs": [
    {
     "name": "stdout",
     "output_type": "stream",
     "text": [
      "Train on 11610 samples, validate on 3870 samples\n",
      "Epoch 1/25\n",
      "11610/11610 [==============================] - 1s 95us/sample - loss: 1.0570 - val_loss: 0.6254\n",
      "Epoch 2/25\n",
      "11610/11610 [==============================] - 0s 38us/sample - loss: 0.5348 - val_loss: 0.5318\n",
      "Epoch 3/25\n",
      "11610/11610 [==============================] - 0s 37us/sample - loss: 0.4886 - val_loss: 0.4996\n",
      "Epoch 4/25\n",
      "11610/11610 [==============================] - 0s 38us/sample - loss: 0.4619 - val_loss: 0.4896\n",
      "Epoch 5/25\n",
      "11610/11610 [==============================] - 0s 35us/sample - loss: 0.4421 - val_loss: 0.5332\n",
      "Epoch 6/25\n",
      "11610/11610 [==============================] - 0s 37us/sample - loss: 0.4402 - val_loss: 0.4469\n",
      "Epoch 7/25\n",
      "11610/11610 [==============================] - 0s 40us/sample - loss: 0.4253 - val_loss: 0.4433\n",
      "Epoch 8/25\n",
      "11610/11610 [==============================] - 1s 45us/sample - loss: 0.4165 - val_loss: 0.4326\n",
      "Epoch 9/25\n",
      "11610/11610 [==============================] - 0s 43us/sample - loss: 0.4264 - val_loss: 0.4263\n"
     ]
    }
   ],
   "source": [
    "input_wide = keras.layers.Input(shape=[5])\n",
    "input_deep = keras.layers.Input(shape=[6])\n",
    "hidden1 = keras.layers.Dense(15, activation=\"relu\")(input_deep)\n",
    "hidden2 = keras.layers.Dense(15, activation=\"relu\")(hidden1)\n",
    "concat = keras.layers.concatenate([input_wide, hidden2])\n",
    "output = keras.layers.Dense(1)(concat)\n",
    "model = keras.models.Model(inputs=[input_wide, input_deep], outputs = output)\n",
    "\n",
    "model.compile(loss=\"mse\", optimizer=\"sgd\")\n",
    "\n",
    "callbacks = [\n",
    "    keras.callbacks.EarlyStopping(patience=5, min_delta=3e-2)\n",
    "]\n",
    "\n",
    "x_train_wide_scaled = x_train_scaled[:, :5]\n",
    "x_train_deep_scaled = x_train_scaled[:,2:]\n",
    "x_valid_wide_scaled = x_valid_scaled[:, :5]\n",
    "x_valid_deep_scaled = x_valid_scaled[:, 2:]\n",
    "x_test_wide_scaled = x_test_scaled[:, :5]\n",
    "x_test_deep_scaled = x_test_scaled[:, 2:]\n",
    "history = model.fit([x_train_wide_scaled, x_train_deep_scaled], y_train, epochs=25,\n",
    "                    validation_data=([x_valid_wide_scaled, x_valid_deep_scaled], y_valid), callbacks = callbacks)\n"
   ]
  },
  {
   "cell_type": "code",
   "execution_count": 13,
   "metadata": {},
   "outputs": [
    {
     "data": {
      "image/png": "[encoded data removed]",
      "text/plain": [
       "<Figure size 576x360 with 1 Axes>"
      ]
     },
     "metadata": {
      "needs_background": "light"
     },
     "output_type": "display_data"
    }
   ],
   "source": [
    "def print_learning_curves(history):\n",
    "    pd.DataFrame(history).plot(figsize=(8, 5))\n",
    "    plt.grid(True)\n",
    "    plt.gca().set_ylim(0, 1.0)\n",
    "    plt.show()\n",
    "    \n",
    "print_learning_curves(history.history)\n",
    "    "
   ]
  },
  {
   "cell_type": "code",
   "execution_count": 19,
   "metadata": {},
   "outputs": [
    {
     "name": "stdout",
     "output_type": "stream",
     "text": [
      "Train on 11610 samples, validate on 3870 samples\n",
      "Epoch 1/30\n",
      "11610/11610 [==============================] - 1s 69us/sample - loss: 2.1653 - val_loss: 7.3775\n",
      "Epoch 2/30\n",
      "11610/11610 [==============================] - 0s 35us/sample - loss: 40.6838 - val_loss: 174.4508\n",
      "Epoch 3/30\n",
      "11610/11610 [==============================] - 0s 37us/sample - loss: 204609044410625607860224.0000 - val_loss: 37887801281260273664.0000\n",
      "Epoch 4/30\n",
      "11610/11610 [==============================] - 0s 35us/sample - loss: 257678253181484367872.0000 - val_loss: 576120044015816146944.0000\n",
      "Epoch 5/30\n",
      "11610/11610 [==============================] - 0s 34us/sample - loss: 3777843008768660996096.0000 - val_loss: 16193564716179086376960.0000\n",
      "Epoch 6/30\n",
      "11610/11610 [==============================] - 0s 35us/sample - loss: 200094240645564927574016.0000 - val_loss: 469583511656446960861184.0000\n"
     ]
    },
    {
     "data": {
      "image/png": "[encoded data removed]",
      "text/plain": [
       "<Figure size 576x360 with 1 Axes>"
      ]
     },
     "metadata": {
      "needs_background": "light"
     },
     "output_type": "display_data"
    }
   ],
   "source": [
    "class WideDeepModel(keras.models.Model):\n",
    "    def __init__(self):\n",
    "        super(WideDeepModel, self).__init__()\n",
    "        self.hidden_layer1 = keras.layers.Dense(15, activation=\"relu\")\n",
    "        self.hidden_layer2 = keras.layers.Dense(15, activation=\"relu\")\n",
    "        self.output_layer = keras.layers.Dense(1)\n",
    "        \n",
    "    def call(self, input):\n",
    "        hidden1 = self.hidden_layer1(input)\n",
    "        hidden2 = self.hidden_layer2(hidden1)\n",
    "        concat = keras.layers.concatenate([input, hidden2])\n",
    "        output = self.output_layer(concat)\n",
    "        return output\n",
    "    \n",
    "#model = keras.models.Sequential([WideDeepModel(),])\n",
    "#model.build(input_shape=(None, 8))\n",
    "model = WideDeepModel()\n",
    "model.compile(loss=\"mean_squared_error\", optimizer=\"sgd\")\n",
    "callbacks=[ \n",
    "    keras.callbacks.EarlyStopping(patience=5, min_delta=5e-2)\n",
    "]\n",
    "history = model.fit(x_train_scaled, y_train, validation_data=(x_valid_scaled, y_valid), epochs=30, callbacks=callbacks)\n",
    "print_learning_curves(history.history)"
   ]
  },
  {
   "cell_type": "code",
   "execution_count": null,
   "metadata": {},
   "outputs": [],
   "source": []
  }
 ],
 "metadata": {
  "kernelspec": {
   "display_name": "Python 3",
   "language": "python",
   "name": "python3"
  },
  "language_info": {
   "codemirror_mode": {
    "name": "ipython",
    "version": 3
   },
   "file_extension": ".py",
   "mimetype": "text/x-python",
   "name": "python",
   "nbconvert_exporter": "python",
   "pygments_lexer": "ipython3",
   "version": "3.7.4"
  }
 },
 "nbformat": 4,
 "nbformat_minor": 4
}
