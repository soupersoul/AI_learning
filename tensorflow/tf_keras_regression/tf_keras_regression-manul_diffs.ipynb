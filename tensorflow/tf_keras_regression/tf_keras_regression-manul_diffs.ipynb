{
 "cells": [
  {
   "cell_type": "code",
   "execution_count": 1,
   "metadata": {},
   "outputs": [
    {
     "name": "stdout",
     "output_type": "stream",
     "text": [
      "2.0.1\n",
      "sys.version_info(major=3, minor=7, micro=4, releaselevel='final', serial=0)\n",
      "matplotlib 3.1.3\n",
      "numpy 1.18.1\n",
      "pandas 1.0.1\n",
      "sklearn 0.22.1\n",
      "tensorflow 2.0.1\n",
      "tensorflow_core.keras 2.2.4-tf\n"
     ]
    }
   ],
   "source": [
    "import matplotlib as mpl\n",
    "import matplotlib.pyplot as plt\n",
    "%matplotlib inline\n",
    "import numpy as np\n",
    "import sklearn\n",
    "import pandas as pd\n",
    "import os\n",
    "import sys\n",
    "import time\n",
    "import tensorflow as tf\n",
    "\n",
    "from tensorflow import keras\n",
    "\n",
    "print(tf.__version__)\n",
    "print(sys.version_info)\n",
    "for module in mpl, np, pd, sklearn, tf, keras:\n",
    "    print(module.__name__, module.__version__)"
   ]
  },
  {
   "cell_type": "code",
   "execution_count": 2,
   "metadata": {},
   "outputs": [
    {
     "name": "stdout",
     "output_type": "stream",
     "text": [
      ".. _california_housing_dataset:\n",
      "\n",
      "California Housing dataset\n",
      "--------------------------\n",
      "\n",
      "**Data Set Characteristics:**\n",
      "\n",
      "    :Number of Instances: 20640\n",
      "\n",
      "    :Number of Attributes: 8 numeric, predictive attributes and the target\n",
      "\n",
      "    :Attribute Information:\n",
      "        - MedInc        median income in block\n",
      "        - HouseAge      median house age in block\n",
      "        - AveRooms      average number of rooms\n",
      "        - AveBedrms     average number of bedrooms\n",
      "        - Population    block population\n",
      "        - AveOccup      average house occupancy\n",
      "        - Latitude      house block latitude\n",
      "        - Longitude     house block longitude\n",
      "\n",
      "    :Missing Attribute Values: None\n",
      "\n",
      "This dataset was obtained from the StatLib repository.\n",
      "http://lib.stat.cmu.edu/datasets/\n",
      "\n",
      "The target variable is the median house value for California districts.\n",
      "\n",
      "This dataset was derived from the 1990 U.S. census, using one row per census\n",
      "block group. A block group is the smallest geographical unit for which the U.S.\n",
      "Census Bureau publishes sample data (a block group typically has a population\n",
      "of 600 to 3,000 people).\n",
      "\n",
      "It can be downloaded/loaded using the\n",
      ":func:`sklearn.datasets.fetch_california_housing` function.\n",
      "\n",
      ".. topic:: References\n",
      "\n",
      "    - Pace, R. Kelley and Ronald Barry, Sparse Spatial Autoregressions,\n",
      "      Statistics and Probability Letters, 33 (1997) 291-297\n",
      "\n",
      "(20640, 8)\n",
      "(20640,)\n"
     ]
    }
   ],
   "source": [
    "from sklearn.datasets import fetch_california_housing\n",
    "\n",
    "housing = fetch_california_housing()\n",
    "\n",
    "print(housing.DESCR)\n",
    "print(housing.data.shape)\n",
    "print(housing.target.shape)"
   ]
  },
  {
   "cell_type": "code",
   "execution_count": 3,
   "metadata": {},
   "outputs": [
    {
     "name": "stdout",
     "output_type": "stream",
     "text": [
      "(11610, 8) (11610,)\n",
      "(3870, 8) (3870,)\n",
      "(5160, 8) (5160,)\n"
     ]
    }
   ],
   "source": [
    "from sklearn.model_selection import train_test_split\n",
    "\n",
    "x_train_all, x_test, y_train_all, y_test = train_test_split(housing.data, housing.target, random_state=7)\n",
    "\n",
    "x_train, x_valid, y_train, y_valid = train_test_split(x_train_all, y_train_all, random_state=11)\n",
    "print(x_train.shape, y_train.shape)\n",
    "print(x_valid.shape, y_valid.shape)\n",
    "print(x_test.shape, y_test.shape)"
   ]
  },
  {
   "cell_type": "code",
   "execution_count": 4,
   "metadata": {},
   "outputs": [],
   "source": [
    "from sklearn.preprocessing import StandardScaler\n",
    "\n",
    "scaler = StandardScaler()\n",
    "x_train_scaled = scaler.fit_transform(x_train)\n",
    "x_valid_scaled = scaler.transform(x_valid)\n",
    "x_test_scaled = scaler.transform(x_test)"
   ]
  },
  {
   "cell_type": "code",
   "execution_count": 5,
   "metadata": {},
   "outputs": [
    {
     "name": "stdout",
     "output_type": "stream",
     "text": [
      "Model: \"sequential\"\n",
      "_________________________________________________________________\n",
      "Layer (type)                 Output Shape              Param #   \n",
      "=================================================================\n",
      "dense (Dense)                (None, 30)                270       \n",
      "_________________________________________________________________\n",
      "dense_1 (Dense)              (None, 1)                 31        \n",
      "=================================================================\n",
      "Total params: 301\n",
      "Trainable params: 301\n",
      "Non-trainable params: 0\n",
      "_________________________________________________________________\n"
     ]
    }
   ],
   "source": [
    "model = keras.models.Sequential([\n",
    "    keras.layers.Dense(30, activation=\"relu\", input_shape=x_train.shape[1:]),\n",
    "    keras.layers.Dense(1)\n",
    "])\n"
   ]
  },
  {
   "cell_type": "code",
   "execution_count": 7,
   "metadata": {},
   "outputs": [
    {
     "name": "stdout",
     "output_type": "stream",
     "text": [
      "tf.Tensor(9.0, shape=(), dtype=float32)\n",
      "tf.Tensor(5.0, shape=(), dtype=float32)\n",
      "tf.Tensor(5.0, shape=(), dtype=float32)\n",
      "tf.Tensor(4.0, shape=(), dtype=float32)\n",
      "tf.Tensor(4.0, shape=(), dtype=float32)\n"
     ]
    }
   ],
   "source": [
    "metric = keras.metrics.MeanSquaredError()\n",
    "\n",
    "print(metric([5.], [2.]))\n",
    "print(metric([1.],[0.]))\n",
    "print(metric.result())\n",
    "metric.reset_states()\n",
    "print(metric([1.],[3.]))\n",
    "print(metric.result())"
   ]
  },
  {
   "cell_type": "code",
   "execution_count": 14,
   "metadata": {},
   "outputs": [
    {
     "name": "stdout",
     "output_type": "stream",
     "text": [
      " Valid mse:  [1.4141254 1.38271   1.4060193 ... 1.4067539 1.3850067 1.396868 ]\n",
      " Valid mse:  [1.3879762 1.4025494 1.4038855 ... 1.3855348 1.3816978 1.3816775]\n",
      " Valid mse:  [1.3912798 1.4093871 1.3931597 ... 1.3838842 1.3826039 1.3822168]\n",
      " Valid mse:  [1.398144  1.3952924 1.3833652 ... 1.3909092 1.3819871 1.3861772]\n",
      " Valid mse:  [1.4093728 1.3816515 1.3816628 ... 1.4144214 1.3928028 1.4031798]\n",
      " Valid mse:  [1.3898083 1.3991848 1.3817968 ... 1.3877413 1.3819319 1.38715  ]\n",
      " Valid mse:  [1.3974268 1.3845586 1.3822436 ... 1.3935685 1.3856416 1.3859234]\n",
      " Valid mse:  [1.3848157 1.3882247 1.3814793 ... 1.3874767 1.3829085 1.384439 ]\n",
      " Valid mse:  [1.3847616 1.3948585 1.3815098 ... 1.384924  1.3816727 1.3830552]\n",
      " Valid mse:  [1.3829598 1.3931457 1.3824304 ... 1.386058  1.3823364 1.3821487]\n",
      " Valid mse:  [1.4006087 1.3816285 1.3875215 ... 1.4085143 1.3903701 1.3949078]\n",
      " Valid mse:  [1.383177  1.3881332 1.3825922 ... 1.3867644 1.3823168 1.3814967]\n",
      " Valid mse:  [1.3837011 1.3834667 1.382103  ... 1.3911796 1.384054  1.3817902]\n",
      " Valid mse:  [1.3827846 1.3870322 1.3816725 ... 1.3887084 1.3824282 1.3817154]\n",
      " Valid mse:  [1.3822727 1.3920008 1.3814665 ... 1.3825862 1.381538  1.3832647]\n",
      " Valid mse:  [1.3819567 1.391324  1.3814735 ... 1.3863941 1.3818789 1.3814927]\n",
      " Valid mse:  [1.3849026 1.3821073 1.3819109 ... 1.3934785 1.3846178 1.3820008]\n",
      " Valid mse:  [1.3880593 1.3820978 1.3828866 ... 1.3927201 1.3852662 1.3818398]\n",
      " Valid mse:  [1.3817488 1.3907304 1.3821807 ... 1.3837512 1.3818674 1.3817599]\n",
      " Valid mse:  [1.3960526 1.3851981 1.3919522 ... 1.4109712 1.3937068 1.3910159]\n",
      " Valid mse:  [1.3910059 1.3863724 1.3900245 ... 1.4147273 1.3942586 1.3929099]\n",
      " Valid mse:  [1.38264   1.3847919 1.3814656 ... 1.3898182 1.3828562 1.382542 ]\n",
      " Valid mse:  [1.3850663 1.381484  1.3865389 ... 1.4070348 1.3869858 1.386218 ]\n",
      " Valid mse:  [1.381869  1.3951366 1.3850603 ... 1.3814865 1.3817188 1.39004  ]\n",
      " Valid mse:  [1.3814709 1.3900326 1.3822836 ... 1.3830011 1.3816234 1.3834827]\n",
      " Valid mse:  [1.3824059 1.3820965 1.3815207 ... 1.391388  1.383738  1.3814648]\n",
      " Valid mse:  [1.3912688 1.384957  1.3883898 ... 1.4117904 1.3940479 1.3894444]\n",
      " Valid mse:  [1.3881574 1.3818172 1.3846453 ... 1.4021686 1.3898401 1.3847406]\n",
      " Valid mse:  [1.3836699 1.3816438 1.3824378 ... 1.3940016 1.3853202 1.3814883]\n",
      " Valid mse:  [1.3971859 1.3867629 1.3895336 ... 1.4219104 1.3977803 1.391171 ]\n"
     ]
    }
   ],
   "source": [
    "# fit函数：\n",
    "# 1. batch遍历数据集 metric\n",
    "#　1.1自动求导\n",
    "#２.epoch验证集 metric\n",
    "epochs = 30\n",
    "batch_size = 32\n",
    "steps_per_epoch = len(x_train_scaled) // batch_size # //  整除\n",
    "optimizer = keras.optimizers.SGD()\n",
    "metric = keras.metrics.MeanSquaredError()\n",
    "\n",
    "def random_batch_data(x, y, batch_size = 32):\n",
    "    idx = np.random.randint(0, len(x), size=batch_size)\n",
    "    return x[idx], y[idx]\n",
    "\n",
    "for epoch in range(epochs):\n",
    "    metric.reset_states()\n",
    "    for _ in range(steps_per_epoch):\n",
    "        with tf.GradientTape() as tape:\n",
    "            x_batch, y_batch = random_batch_data(x_train_scaled, y_train, batch_size)\n",
    "            y_pred = model(x_batch)\n",
    "            loss = tf.reduce_mean(keras.losses.mean_squared_error(y_batch, y_pred))\n",
    "            metric(y_batch, y_pred)\n",
    "        grads = tape.gradient(loss, model.trainable_variables)\n",
    "        grads_and_vars = zip(grads, model.trainable_variables)\n",
    "        optimizer.apply_gradients(grads_and_vars)\n",
    "        print(\"\\rEpoch\", epoch, \"train mse:\", metric.result().numpy(), end=\" \")\n",
    "    y_valid_pred = model(x_valid_scaled)\n",
    "    valid_loss = keras.losses.mean_squared_error(y_valid, y_valid_pred)\n",
    "    print(\"\\r Valid mse: \", valid_loss.numpy())\n",
    "        "
   ]
  },
  {
   "cell_type": "code",
   "execution_count": null,
   "metadata": {},
   "outputs": [],
   "source": []
  }
 ],
 "metadata": {
  "kernelspec": {
   "display_name": "Python 3",
   "language": "python",
   "name": "python3"
  },
  "language_info": {
   "codemirror_mode": {
    "name": "ipython",
    "version": 3
   },
   "file_extension": ".py",
   "mimetype": "text/x-python",
   "name": "python",
   "nbconvert_exporter": "python",
   "pygments_lexer": "ipython3",
   "version": "3.7.4"
  }
 },
 "nbformat": 4,
 "nbformat_minor": 4
}
