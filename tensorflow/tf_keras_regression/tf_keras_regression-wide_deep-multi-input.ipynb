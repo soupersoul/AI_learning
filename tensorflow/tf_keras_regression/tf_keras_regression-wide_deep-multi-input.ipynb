{
 "cells": [
  {
   "cell_type": "code",
   "execution_count": 1,
   "metadata": {},
   "outputs": [
    {
     "name": "stdout",
     "output_type": "stream",
     "text": [
      "2.1.0\n",
      "sys.version_info(major=3, minor=6, micro=9, releaselevel='final', serial=0)\n",
      "matplotlib 3.1.3\n",
      "numpy 1.18.1\n",
      "pandas 1.0.1\n",
      "sklearn 0.22.1\n",
      "tensorflow 2.1.0\n",
      "tensorflow_core.python.keras.api._v2.keras 2.2.4-tf\n"
     ]
    }
   ],
   "source": [
    "import matplotlib as mpl\n",
    "import matplotlib.pyplot as plt\n",
    "%matplotlib inline\n",
    "import numpy as np\n",
    "import sklearn\n",
    "import pandas as pd\n",
    "import os\n",
    "import sys\n",
    "import time\n",
    "import tensorflow as tf\n",
    "\n",
    "from tensorflow import keras\n",
    "\n",
    "print(tf.__version__)\n",
    "print(sys.version_info)\n",
    "for module in mpl, np, pd, sklearn, tf, keras:\n",
    "    print(module.__name__, module.__version__)"
   ]
  },
  {
   "cell_type": "code",
   "execution_count": 2,
   "metadata": {},
   "outputs": [
    {
     "name": "stdout",
     "output_type": "stream",
     "text": [
      ".. _california_housing_dataset:\n",
      "\n",
      "California Housing dataset\n",
      "--------------------------\n",
      "\n",
      "**Data Set Characteristics:**\n",
      "\n",
      "    :Number of Instances: 20640\n",
      "\n",
      "    :Number of Attributes: 8 numeric, predictive attributes and the target\n",
      "\n",
      "    :Attribute Information:\n",
      "        - MedInc        median income in block\n",
      "        - HouseAge      median house age in block\n",
      "        - AveRooms      average number of rooms\n",
      "        - AveBedrms     average number of bedrooms\n",
      "        - Population    block population\n",
      "        - AveOccup      average house occupancy\n",
      "        - Latitude      house block latitude\n",
      "        - Longitude     house block longitude\n",
      "\n",
      "    :Missing Attribute Values: None\n",
      "\n",
      "This dataset was obtained from the StatLib repository.\n",
      "http://lib.stat.cmu.edu/datasets/\n",
      "\n",
      "The target variable is the median house value for California districts.\n",
      "\n",
      "This dataset was derived from the 1990 U.S. census, using one row per census\n",
      "block group. A block group is the smallest geographical unit for which the U.S.\n",
      "Census Bureau publishes sample data (a block group typically has a population\n",
      "of 600 to 3,000 people).\n",
      "\n",
      "It can be downloaded/loaded using the\n",
      ":func:`sklearn.datasets.fetch_california_housing` function.\n",
      "\n",
      ".. topic:: References\n",
      "\n",
      "    - Pace, R. Kelley and Ronald Barry, Sparse Spatial Autoregressions,\n",
      "      Statistics and Probability Letters, 33 (1997) 291-297\n",
      "\n",
      "(20640, 8)\n",
      "(20640,)\n"
     ]
    }
   ],
   "source": [
    "from sklearn.datasets import fetch_california_housing\n",
    "\n",
    "housing = fetch_california_housing()\n",
    "\n",
    "print(housing.DESCR)\n",
    "print(housing.data.shape)\n",
    "print(housing.target.shape)"
   ]
  },
  {
   "cell_type": "code",
   "execution_count": 3,
   "metadata": {},
   "outputs": [
    {
     "name": "stdout",
     "output_type": "stream",
     "text": [
      "(11610, 8) (11610,)\n",
      "(3870, 8) (3870,)\n",
      "(5160, 8) (5160,)\n"
     ]
    }
   ],
   "source": [
    "from sklearn.model_selection import train_test_split\n",
    "\n",
    "x_train_all, x_test, y_train_all, y_test = train_test_split(housing.data, housing.target, random_state=7)\n",
    "\n",
    "x_train, x_valid, y_train, y_valid = train_test_split(x_train_all, y_train_all, random_state=11)\n",
    "print(x_train.shape, y_train.shape)\n",
    "print(x_valid.shape, y_valid.shape)\n",
    "print(x_test.shape, y_test.shape)"
   ]
  },
  {
   "cell_type": "code",
   "execution_count": 4,
   "metadata": {},
   "outputs": [],
   "source": [
    "from sklearn.preprocessing import StandardScaler\n",
    "\n",
    "scaler = StandardScaler()\n",
    "x_train_scaled = scaler.fit_transform(x_train)\n",
    "x_valid_scaled = scaler.transform(x_valid)\n",
    "x_test_scaled = scaler.transform(x_test)"
   ]
  },
  {
   "cell_type": "code",
   "execution_count": 5,
   "metadata": {},
   "outputs": [
    {
     "name": "stdout",
     "output_type": "stream",
     "text": [
      "Model: \"model\"\n",
      "__________________________________________________________________________________________________\n",
      "Layer (type)                    Output Shape         Param #     Connected to                     \n",
      "==================================================================================================\n",
      "input_2 (InputLayer)            [(None, 6)]          0                                            \n",
      "__________________________________________________________________________________________________\n",
      "dense (Dense)                   (None, 20)           140         input_2[0][0]                    \n",
      "__________________________________________________________________________________________________\n",
      "input_1 (InputLayer)            [(None, 5)]          0                                            \n",
      "__________________________________________________________________________________________________\n",
      "dense_1 (Dense)                 (None, 20)           420         dense[0][0]                      \n",
      "__________________________________________________________________________________________________\n",
      "concatenate (Concatenate)       (None, 25)           0           input_1[0][0]                    \n",
      "                                                                 dense_1[0][0]                    \n",
      "__________________________________________________________________________________________________\n",
      "dense_2 (Dense)                 (None, 1)            26          concatenate[0][0]                \n",
      "==================================================================================================\n",
      "Total params: 586\n",
      "Trainable params: 586\n",
      "Non-trainable params: 0\n",
      "__________________________________________________________________________________________________\n"
     ]
    }
   ],
   "source": [
    "# 多输入\n",
    "input_wide = keras.layers.Input(shape=[5])\n",
    "input_deep = keras.layers.Input(shape=[6])\n",
    "hidden1 = keras.layers.Dense(20, activation=\"relu\")(input_deep)\n",
    "hidden2 = keras.layers.Dense(20, activation=\"relu\")(hidden1)\n",
    "concat = keras.layers.concatenate([input_wide, hidden2])\n",
    "output = keras.layers.Dense(1)(concat)\n",
    "model = keras.models.Model(inputs=[input_wide, input_deep], outputs = [output])\n",
    "\n",
    "\n",
    "model.summary()\n",
    "model.compile(loss=\"mean_squared_error\", optimizer=\"sgd\")"
   ]
  },
  {
   "cell_type": "code",
   "execution_count": 6,
   "metadata": {},
   "outputs": [
    {
     "name": "stdout",
     "output_type": "stream",
     "text": [
      "Train on 11610 samples, validate on 3870 samples\n",
      "Epoch 1/100\n",
      "11610/11610 [==============================] - 1s 122us/sample - loss: 0.8530 - val_loss: 0.5731\n",
      "Epoch 2/100\n",
      "11610/11610 [==============================] - 1s 77us/sample - loss: 0.5183 - val_loss: 0.5060\n",
      "Epoch 3/100\n",
      "11610/11610 [==============================] - 1s 77us/sample - loss: 0.4657 - val_loss: 0.4812\n",
      "Epoch 4/100\n",
      "11610/11610 [==============================] - 1s 86us/sample - loss: 0.4448 - val_loss: 0.4634\n",
      "Epoch 5/100\n",
      "11610/11610 [==============================] - 1s 87us/sample - loss: 0.4348 - val_loss: 0.4428\n",
      "Epoch 6/100\n",
      "11610/11610 [==============================] - 1s 87us/sample - loss: 0.4605 - val_loss: 0.4367\n",
      "Epoch 7/100\n",
      "11610/11610 [==============================] - 1s 88us/sample - loss: 0.4589 - val_loss: 0.4419\n",
      "Epoch 8/100\n",
      "11610/11610 [==============================] - 1s 87us/sample - loss: 0.4133 - val_loss: 0.4262\n",
      "Epoch 9/100\n",
      "11610/11610 [==============================] - 1s 87us/sample - loss: 0.4023 - val_loss: 0.4251\n",
      "Epoch 10/100\n",
      "11610/11610 [==============================] - 1s 87us/sample - loss: 0.4021 - val_loss: 0.4159\n",
      "Epoch 11/100\n",
      "11610/11610 [==============================] - 1s 89us/sample - loss: 0.3997 - val_loss: 0.4056\n",
      "Epoch 12/100\n",
      "11610/11610 [==============================] - 1s 87us/sample - loss: 0.4287 - val_loss: 0.4049\n",
      "Epoch 13/100\n",
      "11610/11610 [==============================] - 1s 87us/sample - loss: 0.3876 - val_loss: 0.4345\n",
      "Epoch 14/100\n",
      "11610/11610 [==============================] - 1s 80us/sample - loss: 0.3778 - val_loss: 0.3938\n",
      "Epoch 15/100\n",
      "11610/11610 [==============================] - 1s 77us/sample - loss: 0.3734 - val_loss: 0.3956\n",
      "Epoch 16/100\n",
      "11610/11610 [==============================] - 1s 77us/sample - loss: 0.3701 - val_loss: 0.3859\n",
      "Epoch 17/100\n",
      "11610/11610 [==============================] - 1s 76us/sample - loss: 0.3647 - val_loss: 0.3843\n",
      "Epoch 18/100\n",
      "11610/11610 [==============================] - 1s 76us/sample - loss: 0.3608 - val_loss: 0.3876\n",
      "Epoch 19/100\n",
      "11610/11610 [==============================] - 1s 78us/sample - loss: 0.3575 - val_loss: 0.3749\n",
      "Epoch 20/100\n",
      "11610/11610 [==============================] - 1s 79us/sample - loss: 0.3537 - val_loss: 0.3769\n",
      "Epoch 21/100\n",
      "11610/11610 [==============================] - 1s 80us/sample - loss: 0.3521 - val_loss: 0.3680\n",
      "Epoch 22/100\n",
      "11610/11610 [==============================] - 1s 76us/sample - loss: 0.3534 - val_loss: 0.3610\n",
      "Epoch 23/100\n",
      "11610/11610 [==============================] - 1s 77us/sample - loss: 0.3553 - val_loss: 0.3856\n",
      "Epoch 24/100\n",
      "11610/11610 [==============================] - 1s 76us/sample - loss: 0.3450 - val_loss: 0.3700\n",
      "Epoch 25/100\n",
      "11610/11610 [==============================] - 1s 76us/sample - loss: 0.3424 - val_loss: 0.3648\n",
      "Epoch 26/100\n",
      "11610/11610 [==============================] - 1s 78us/sample - loss: 0.3426 - val_loss: 0.3581\n",
      "Epoch 27/100\n",
      "11610/11610 [==============================] - 1s 77us/sample - loss: 0.3404 - val_loss: 0.3583\n"
     ]
    }
   ],
   "source": [
    "callbacks = [keras.callbacks.EarlyStopping(patience=5, min_delta=1e-2)]\n",
    "x_train_scaled_wide = x_train_scaled[:, :5]\n",
    "x_train_scaled_deep = x_train_scaled[:, 2:]\n",
    "x_valid_scaled_wide = x_valid_scaled[:, :5]\n",
    "x_valid_scaled_deep = x_valid_scaled[:, 2:]\n",
    "x_test_scaled_wide = x_test_scaled[:, :5]\n",
    "x_test_scaled_deep = x_test_scaled[:, 2:]\n",
    "history = model.fit([x_train_scaled_wide,x_train_scaled_deep], y_train, validation_data=([x_valid_scaled_wide, x_valid_scaled_deep], y_valid),\n",
    "                   epochs=100, callbacks=callbacks)"
   ]
  },
  {
   "cell_type": "code",
   "execution_count": 7,
   "metadata": {},
   "outputs": [
    {
     "data": {
      "image/png": "[encoded data removed]",
      "text/plain": [
       "<Figure size 576x360 with 1 Axes>"
      ]
     },
     "metadata": {
      "needs_background": "light"
     },
     "output_type": "display_data"
    }
   ],
   "source": [
    "def plot_learning_curves(history):\n",
    "    pd.DataFrame(history.history).plot(figsize=[8, 5])\n",
    "    plt.grid(True)\n",
    "    plt.gca().set_ylim(0, 1)\n",
    "    plt.show()\n",
    "    \n",
    "plot_learning_curves(history)"
   ]
  },
  {
   "cell_type": "code",
   "execution_count": 8,
   "metadata": {},
   "outputs": [
    {
     "name": "stdout",
     "output_type": "stream",
     "text": [
      "5160/5160 [==============================] - 0s 44us/sample - loss: 0.3502\n"
     ]
    },
    {
     "data": {
      "text/plain": [
       "0.35018948547599854"
      ]
     },
     "execution_count": 8,
     "metadata": {},
     "output_type": "execute_result"
    }
   ],
   "source": [
    "model.evaluate([x_test_scaled_wide, x_test_scaled_deep], y_test)"
   ]
  },
  {
   "cell_type": "code",
   "execution_count": null,
   "metadata": {},
   "outputs": [],
   "source": []
  }
 ],
 "metadata": {
  "kernelspec": {
   "display_name": "Python 3",
   "language": "python",
   "name": "python3"
  },
  "language_info": {
   "codemirror_mode": {
    "name": "ipython",
    "version": 3
   },
   "file_extension": ".py",
   "mimetype": "text/x-python",
   "name": "python",
   "nbconvert_exporter": "python",
   "pygments_lexer": "ipython3",
   "version": "3.7.4"
  }
 },
 "nbformat": 4,
 "nbformat_minor": 4
}
