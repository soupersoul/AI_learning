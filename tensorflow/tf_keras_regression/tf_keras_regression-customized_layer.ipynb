{
 "cells": [
  {
   "cell_type": "code",
   "execution_count": 1,
   "metadata": {},
   "outputs": [
    {
     "name": "stdout",
     "output_type": "stream",
     "text": [
      "2.0.1\n",
      "sys.version_info(major=3, minor=7, micro=4, releaselevel='final', serial=0)\n",
      "matplotlib 3.1.3\n",
      "numpy 1.18.1\n",
      "pandas 1.0.1\n",
      "sklearn 0.22.1\n",
      "tensorflow 2.0.1\n",
      "tensorflow_core.keras 2.2.4-tf\n"
     ]
    }
   ],
   "source": [
    "import matplotlib as mpl\n",
    "import matplotlib.pyplot as plt\n",
    "%matplotlib inline\n",
    "import numpy as np\n",
    "import sklearn\n",
    "import pandas as pd\n",
    "import os\n",
    "import sys\n",
    "import time\n",
    "import tensorflow as tf\n",
    "\n",
    "from tensorflow import keras\n",
    "\n",
    "print(tf.__version__)\n",
    "print(sys.version_info)\n",
    "for module in mpl, np, pd, sklearn, tf, keras:\n",
    "    print(module.__name__, module.__version__)"
   ]
  },
  {
   "cell_type": "code",
   "execution_count": 2,
   "metadata": {},
   "outputs": [
    {
     "name": "stdout",
     "output_type": "stream",
     "text": [
      ".. _california_housing_dataset:\n",
      "\n",
      "California Housing dataset\n",
      "--------------------------\n",
      "\n",
      "**Data Set Characteristics:**\n",
      "\n",
      "    :Number of Instances: 20640\n",
      "\n",
      "    :Number of Attributes: 8 numeric, predictive attributes and the target\n",
      "\n",
      "    :Attribute Information:\n",
      "        - MedInc        median income in block\n",
      "        - HouseAge      median house age in block\n",
      "        - AveRooms      average number of rooms\n",
      "        - AveBedrms     average number of bedrooms\n",
      "        - Population    block population\n",
      "        - AveOccup      average house occupancy\n",
      "        - Latitude      house block latitude\n",
      "        - Longitude     house block longitude\n",
      "\n",
      "    :Missing Attribute Values: None\n",
      "\n",
      "This dataset was obtained from the StatLib repository.\n",
      "http://lib.stat.cmu.edu/datasets/\n",
      "\n",
      "The target variable is the median house value for California districts.\n",
      "\n",
      "This dataset was derived from the 1990 U.S. census, using one row per census\n",
      "block group. A block group is the smallest geographical unit for which the U.S.\n",
      "Census Bureau publishes sample data (a block group typically has a population\n",
      "of 600 to 3,000 people).\n",
      "\n",
      "It can be downloaded/loaded using the\n",
      ":func:`sklearn.datasets.fetch_california_housing` function.\n",
      "\n",
      ".. topic:: References\n",
      "\n",
      "    - Pace, R. Kelley and Ronald Barry, Sparse Spatial Autoregressions,\n",
      "      Statistics and Probability Letters, 33 (1997) 291-297\n",
      "\n",
      "(20640, 8)\n",
      "(20640,)\n"
     ]
    }
   ],
   "source": [
    "from sklearn.datasets import fetch_california_housing\n",
    "\n",
    "housing = fetch_california_housing()\n",
    "\n",
    "print(housing.DESCR)\n",
    "print(housing.data.shape)\n",
    "print(housing.target.shape)"
   ]
  },
  {
   "cell_type": "code",
   "execution_count": 3,
   "metadata": {},
   "outputs": [
    {
     "name": "stdout",
     "output_type": "stream",
     "text": [
      "(11610, 8) (11610,)\n",
      "(3870, 8) (3870,)\n",
      "(5160, 8) (5160,)\n"
     ]
    }
   ],
   "source": [
    "from sklearn.model_selection import train_test_split\n",
    "\n",
    "x_train_all, x_test, y_train_all, y_test = train_test_split(housing.data, housing.target, random_state=7)\n",
    "\n",
    "x_train, x_valid, y_train, y_valid = train_test_split(x_train_all, y_train_all, random_state=11)\n",
    "print(x_train.shape, y_train.shape)\n",
    "print(x_valid.shape, y_valid.shape)\n",
    "print(x_test.shape, y_test.shape)"
   ]
  },
  {
   "cell_type": "code",
   "execution_count": 4,
   "metadata": {},
   "outputs": [],
   "source": [
    "from sklearn.preprocessing import StandardScaler\n",
    "\n",
    "scaler = StandardScaler()\n",
    "x_train_scaled = scaler.fit_transform(x_train)\n",
    "x_valid_scaled = scaler.transform(x_valid)\n",
    "x_test_scaled = scaler.transform(x_test)"
   ]
  },
  {
   "cell_type": "code",
   "execution_count": 5,
   "metadata": {},
   "outputs": [
    {
     "name": "stdout",
     "output_type": "stream",
     "text": [
      "tf.Tensor(\n",
      "[[0. 0. 0. 0. 0. 0. 0. 0. 0. 0. 0. 0. 0. 0. 0.]\n",
      " [0. 0. 0. 0. 0. 0. 0. 0. 0. 0. 0. 0. 0. 0. 0.]\n",
      " [0. 0. 0. 0. 0. 0. 0. 0. 0. 0. 0. 0. 0. 0. 0.]\n",
      " [0. 0. 0. 0. 0. 0. 0. 0. 0. 0. 0. 0. 0. 0. 0.]\n",
      " [0. 0. 0. 0. 0. 0. 0. 0. 0. 0. 0. 0. 0. 0. 0.]\n",
      " [0. 0. 0. 0. 0. 0. 0. 0. 0. 0. 0. 0. 0. 0. 0.]\n",
      " [0. 0. 0. 0. 0. 0. 0. 0. 0. 0. 0. 0. 0. 0. 0.]], shape=(7, 15), dtype=float32)\n",
      "[<tf.Variable 'dense/kernel:0' shape=(5, 15) dtype=float32, numpy=\n",
      "array([[ 0.01223534, -0.45291167,  0.18318945, -0.16670635, -0.09949532,\n",
      "         0.2583    , -0.3556071 , -0.48200285, -0.1976046 , -0.5250265 ,\n",
      "        -0.12405175, -0.07401097,  0.40203083,  0.2559693 , -0.2833841 ],\n",
      "       [ 0.35402006,  0.00886136,  0.40201676, -0.29953578,  0.19633478,\n",
      "         0.02911758, -0.4715309 , -0.27086392,  0.41890556,  0.34297723,\n",
      "         0.13851571, -0.4268198 ,  0.21006691, -0.24516097,  0.08709306],\n",
      "       [-0.08919147, -0.39838403,  0.05743176,  0.39168352,  0.52539825,\n",
      "         0.40276408,  0.06958604,  0.33006865,  0.02829653,  0.41004103,\n",
      "         0.19929099,  0.12362957, -0.5370607 ,  0.15095168, -0.03431648],\n",
      "       [ 0.4869349 ,  0.3890744 , -0.23300421, -0.31118155,  0.51912653,\n",
      "        -0.42607182, -0.124724  , -0.4476524 ,  0.36117494, -0.32248506,\n",
      "         0.5261502 , -0.24931443,  0.39849597,  0.19563311, -0.44246298],\n",
      "       [ 0.16605449,  0.34006172,  0.32795614, -0.14902484,  0.02127606,\n",
      "        -0.3612227 , -0.46327114,  0.41397315, -0.00480759, -0.41139513,\n",
      "        -0.37166995,  0.03441393, -0.14218953,  0.47710025,  0.23047525]],\n",
      "      dtype=float32)>, <tf.Variable 'dense/bias:0' shape=(15,) dtype=float32, numpy=\n",
      "array([0., 0., 0., 0., 0., 0., 0., 0., 0., 0., 0., 0., 0., 0., 0.],\n",
      "      dtype=float32)>]\n",
      "[<tf.Variable 'dense/kernel:0' shape=(5, 15) dtype=float32, numpy=\n",
      "array([[ 0.01223534, -0.45291167,  0.18318945, -0.16670635, -0.09949532,\n",
      "         0.2583    , -0.3556071 , -0.48200285, -0.1976046 , -0.5250265 ,\n",
      "        -0.12405175, -0.07401097,  0.40203083,  0.2559693 , -0.2833841 ],\n",
      "       [ 0.35402006,  0.00886136,  0.40201676, -0.29953578,  0.19633478,\n",
      "         0.02911758, -0.4715309 , -0.27086392,  0.41890556,  0.34297723,\n",
      "         0.13851571, -0.4268198 ,  0.21006691, -0.24516097,  0.08709306],\n",
      "       [-0.08919147, -0.39838403,  0.05743176,  0.39168352,  0.52539825,\n",
      "         0.40276408,  0.06958604,  0.33006865,  0.02829653,  0.41004103,\n",
      "         0.19929099,  0.12362957, -0.5370607 ,  0.15095168, -0.03431648],\n",
      "       [ 0.4869349 ,  0.3890744 , -0.23300421, -0.31118155,  0.51912653,\n",
      "        -0.42607182, -0.124724  , -0.4476524 ,  0.36117494, -0.32248506,\n",
      "         0.5261502 , -0.24931443,  0.39849597,  0.19563311, -0.44246298],\n",
      "       [ 0.16605449,  0.34006172,  0.32795614, -0.14902484,  0.02127606,\n",
      "        -0.3612227 , -0.46327114,  0.41397315, -0.00480759, -0.41139513,\n",
      "        -0.37166995,  0.03441393, -0.14218953,  0.47710025,  0.23047525]],\n",
      "      dtype=float32)>, <tf.Variable 'dense/bias:0' shape=(15,) dtype=float32, numpy=\n",
      "array([0., 0., 0., 0., 0., 0., 0., 0., 0., 0., 0., 0., 0., 0., 0.],\n",
      "      dtype=float32)>]\n"
     ]
    }
   ],
   "source": [
    "layer = keras.layers.Dense(15, input_shape=(None, 5))\n",
    "o = layer(tf.zeros([7, 5]))\n",
    "print(o)\n",
    "\n",
    "print(layer.variables)\n",
    "print(layer.trainable_variables)\n"
   ]
  },
  {
   "cell_type": "code",
   "execution_count": 12,
   "metadata": {},
   "outputs": [
    {
     "name": "stdout",
     "output_type": "stream",
     "text": [
      "tf.Tensor([4.5417706e-05 6.7153489e-03 6.9314718e-01 5.0067153e+00 1.0000046e+01], shape=(5,), dtype=float32)\n"
     ]
    }
   ],
   "source": [
    "# tf.nn.softplus:   log(1+e^x),    比relu平滑，不会出现折点,  x> 0 时，约等于ｘ,　ｘ小于０时则很接近于0\n",
    "customized_softplus = keras.layers.Lambda(lambda x : tf.nn.softplus(x))\n",
    "print(customized_softplus([-10., -5., 0., 5., 10.]))"
   ]
  },
  {
   "cell_type": "code",
   "execution_count": 11,
   "metadata": {},
   "outputs": [
    {
     "name": "stdout",
     "output_type": "stream",
     "text": [
      "Model: \"sequential_2\"\n",
      "_________________________________________________________________\n",
      "Layer (type)                 Output Shape              Param #   \n",
      "=================================================================\n",
      "customized_dense_layer_6 (Cu (None, 30)                270       \n",
      "_________________________________________________________________\n",
      "customized_dense_layer_7 (Cu (None, 1)                 31        \n",
      "=================================================================\n",
      "Total params: 301\n",
      "Trainable params: 301\n",
      "Non-trainable params: 0\n",
      "_________________________________________________________________\n"
     ]
    }
   ],
   "source": [
    "def customized_loss(y_true, y_pred):\n",
    "    return tf.reduce_mean(tf.square(y_true - y_pred))\n",
    "\n",
    "class CustomizedDenseLayer(keras.layers.Layer):\n",
    "    def __init__(self, units, activation=None, **kwargs):\n",
    "        self.units = units\n",
    "        self.activation = keras.layers.Activation(activation)\n",
    "        super().__init__(**kwargs)\n",
    "    \n",
    "    def build(self, input_shape):\n",
    "        # x * W + b         input: x->[None, a],  W->[a, b]   output: [None, b]\n",
    "        self.kernel = self.add_weight(name=\"kernel\",\n",
    "                                                      shape = (input_shape[1], self.units),\n",
    "                                                      initializer = \"uniform\",\n",
    "                                                      trainable = True\n",
    "                                                     )\n",
    "        self.bias = self.add_weight(name = \"bias\",\n",
    "                                   shape = (self.units,),\n",
    "                                   initializer = \"zeros\",\n",
    "                                   trainable = True)\n",
    "        \n",
    "    def call(self, x):\n",
    "        return self.activation(x @ self.kernel + self.bias)\n",
    "\n",
    "model = keras.models.Sequential([\n",
    "    #keras.layers.Dense(30, activation=\"relu\", input_shape=x_train.shape[1:]),\n",
    "    #keras.layers.Dense(1)\n",
    "    CustomizedDenseLayer(30, activation=\"relu\", input_shape=x_train.shape[1:]),\n",
    "    CustomizedDenseLayer(1),\n",
    "    customized_softplus,\n",
    "    # CustomizedDenseLayer(1, \"softplus\")\n",
    "    # CustomizedDenseLayer(1), keras.layers.Activation(\"softplus\")\n",
    "])\n",
    "model.summary()\n",
    "model.compile(loss=customized_loss, optimizer=\"sgd\", metrics=[\"mean_squared_error\"])"
   ]
  },
  {
   "cell_type": "code",
   "execution_count": 8,
   "metadata": {},
   "outputs": [
    {
     "name": "stdout",
     "output_type": "stream",
     "text": [
      "Train on 11610 samples, validate on 3870 samples\n",
      "Epoch 1/100\n",
      "11610/11610 [==============================] - 1s 72us/sample - loss: 1.1971 - mean_squared_error: 1.1971 - val_loss: 0.6445 - val_mean_squared_error: 0.6445\n",
      "Epoch 2/100\n",
      "11610/11610 [==============================] - 0s 35us/sample - loss: 0.5546 - mean_squared_error: 0.5546 - val_loss: 0.5504 - val_mean_squared_error: 0.5504\n",
      "Epoch 3/100\n",
      "11610/11610 [==============================] - 0s 36us/sample - loss: 0.4866 - mean_squared_error: 0.4866 - val_loss: 0.4926 - val_mean_squared_error: 0.4926\n",
      "Epoch 4/100\n",
      "11610/11610 [==============================] - 0s 36us/sample - loss: 0.4637 - mean_squared_error: 0.4637 - val_loss: 0.5055 - val_mean_squared_error: 0.5055\n",
      "Epoch 5/100\n",
      "11610/11610 [==============================] - 0s 37us/sample - loss: 0.4587 - mean_squared_error: 0.4587 - val_loss: 0.4828 - val_mean_squared_error: 0.4828\n",
      "Epoch 6/100\n",
      "11610/11610 [==============================] - 1s 46us/sample - loss: 0.4338 - mean_squared_error: 0.4338 - val_loss: 0.4434 - val_mean_squared_error: 0.4434\n",
      "Epoch 7/100\n",
      "11610/11610 [==============================] - 1s 44us/sample - loss: 0.4349 - mean_squared_error: 0.4349 - val_loss: 0.4372 - val_mean_squared_error: 0.4372\n",
      "Epoch 8/100\n",
      "11610/11610 [==============================] - 1s 44us/sample - loss: 0.4150 - mean_squared_error: 0.4150 - val_loss: 0.4357 - val_mean_squared_error: 0.4357\n",
      "Epoch 9/100\n",
      "11610/11610 [==============================] - 0s 36us/sample - loss: 0.4088 - mean_squared_error: 0.4088 - val_loss: 0.4303 - val_mean_squared_error: 0.4303\n",
      "Epoch 10/100\n",
      "11610/11610 [==============================] - 0s 36us/sample - loss: 0.4000 - mean_squared_error: 0.4000 - val_loss: 0.4293 - val_mean_squared_error: 0.4293\n",
      "Epoch 11/100\n",
      "11610/11610 [==============================] - 0s 36us/sample - loss: 0.3955 - mean_squared_error: 0.3955 - val_loss: 0.4062 - val_mean_squared_error: 0.4062\n",
      "Epoch 12/100\n",
      "11610/11610 [==============================] - 0s 36us/sample - loss: 0.3911 - mean_squared_error: 0.3911 - val_loss: 0.4191 - val_mean_squared_error: 0.4191\n",
      "Epoch 13/100\n",
      "11610/11610 [==============================] - 0s 38us/sample - loss: 0.3875 - mean_squared_error: 0.3875 - val_loss: 0.4100 - val_mean_squared_error: 0.4100\n",
      "Epoch 14/100\n",
      "11610/11610 [==============================] - 0s 37us/sample - loss: 0.3831 - mean_squared_error: 0.3831 - val_loss: 0.3972 - val_mean_squared_error: 0.3972\n",
      "Epoch 15/100\n",
      "11610/11610 [==============================] - 1s 45us/sample - loss: 0.3805 - mean_squared_error: 0.3805 - val_loss: 0.4039 - val_mean_squared_error: 0.4039\n",
      "Epoch 16/100\n",
      "11610/11610 [==============================] - 0s 42us/sample - loss: 0.3782 - mean_squared_error: 0.3782 - val_loss: 0.4023 - val_mean_squared_error: 0.4023\n"
     ]
    }
   ],
   "source": [
    "callbacks = [keras.callbacks.EarlyStopping(patience=5, min_delta=1e-2)]\n",
    "history = model.fit(x_train_scaled, y_train, validation_data=(x_valid_scaled, y_valid),\n",
    "                   epochs=100, callbacks=callbacks)"
   ]
  },
  {
   "cell_type": "code",
   "execution_count": null,
   "metadata": {},
   "outputs": [],
   "source": [
    "def plot_learning_curves(history):\n",
    "    pd.DataFrame(history.history).plot(figsize=[8, 5])\n",
    "    plt.grid(True)\n",
    "    plt.gca().set_ylim(0, 1)\n",
    "    plt.show()\n",
    "    \n",
    "plot_learning_curves(history)"
   ]
  },
  {
   "cell_type": "code",
   "execution_count": null,
   "metadata": {},
   "outputs": [],
   "source": [
    "model.evaluate(x_test_scaled, y_test)"
   ]
  }
 ],
 "metadata": {
  "kernelspec": {
   "display_name": "Python 3",
   "language": "python",
   "name": "python3"
  },
  "language_info": {
   "codemirror_mode": {
    "name": "ipython",
    "version": 3
   },
   "file_extension": ".py",
   "mimetype": "text/x-python",
   "name": "python",
   "nbconvert_exporter": "python",
   "pygments_lexer": "ipython3",
   "version": "3.7.4"
  }
 },
 "nbformat": 4,
 "nbformat_minor": 4
}
