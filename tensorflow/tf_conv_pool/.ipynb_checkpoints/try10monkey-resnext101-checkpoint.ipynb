{
 "cells": [
  {
   "cell_type": "code",
   "execution_count": 1,
   "metadata": {},
   "outputs": [
    {
     "name": "stdout",
     "output_type": "stream",
     "text": [
      "2.1.0\n"
     ]
    }
   ],
   "source": [
    "import numpy as np # linear algebra\n",
    "import pandas as pd # data processing, CSV file I/O (e.g. pd.read_csv)\n",
    "import tensorflow as tf\n",
    "%matplotlib inline\n",
    "import matplotlib as mpl\n",
    "import matplotlib.pyplot as plt\n",
    "import sklearn\n",
    "import sys\n",
    "import time\n",
    "from tensorflow import keras\n",
    "# Input data files are available in the \"../input/\" directory.\n",
    "# For example, running this (by clicking run or pressing Shift+Enter) will list all files under the input directory\n",
    "\n",
    "import os\n",
    "#for dirname, _, filenames in os.walk('/kaggle/input'):\n",
    "#    print(dirname)\n",
    "#    for filename in filenames:\n",
    "#        print(os.path.join(dirname, filename))\n",
    "\n",
    "# Any results you write to the current directory are saved as output.\n",
    "print(tf.__version__)"
   ]
  },
  {
   "cell_type": "code",
   "execution_count": 5,
   "metadata": {},
   "outputs": [
    {
     "name": "stdout",
     "output_type": "stream",
     "text": [
      "Found 1098 images belonging to 10 classes.\n"
     ]
    }
   ],
   "source": [
    "train_dir = \"10monkey/training\"\n",
    "train_generator = keras.preprocessing.image.ImageDataGenerator(\n",
    "    preprocessing_function=keras.applications.resnet50.preprocess_input,\n",
    "    zoom_range=0.2,\n",
    "    rotation_range=30,\n",
    "    width_shift_range=0.2,\n",
    "    height_shift_range=0.2,\n",
    "    shear_range=0.2,\n",
    "    horizontal_flip=True,\n",
    "    vertical_flip=True,\n",
    "    fill_mode='nearest'\n",
    ")\n",
    "train_gen = train_generator.flow_from_directory(directory=train_dir,\n",
    "                                                target_size=(224, 224), \n",
    "                                                class_mode='categorical',\n",
    "                                                batch_size=32, \n",
    "                                                shuffle=True, \n",
    "                                                seed=7, \n",
    "                                                interpolation='nearest')"
   ]
  },
  {
   "cell_type": "code",
   "execution_count": 6,
   "metadata": {},
   "outputs": [
    {
     "name": "stdout",
     "output_type": "stream",
     "text": [
      "Found 272 images belonging to 10 classes.\n"
     ]
    }
   ],
   "source": [
    "validation_dir = \"10monkey/validation\"\n",
    "validation_gen = keras.preprocessing.image.ImageDataGenerator(\n",
    "    preprocessing_function=keras.applications.resnet50.preprocess_input,\n",
    ")\n",
    "validation_generator = validation_gen.flow_from_directory(directory=validation_dir,\n",
    "                                                target_size=(224, 224), \n",
    "                                                class_mode='categorical',\n",
    "                                                batch_size=32, \n",
    "                                                seed = 7,\n",
    "                                                shuffle=False,\n",
    "                                               )"
   ]
  },
  {
   "cell_type": "code",
   "execution_count": null,
   "metadata": {},
   "outputs": [
    {
     "name": "stdout",
     "output_type": "stream",
     "text": [
      "Downloading data from https://github.com/keras-team/keras-applications/releases/download/resnet/resnet50_weights_tf_dim_ordering_tf_kernels_notop.h5\n",
      "15622144/94765736 [===>..........................] - ETA: 9:02:08"
     ]
    }
   ],
   "source": [
    "model = keras.models.Sequential()\n",
    "model.add(\n",
    "    keras.applications.resnet50.ResNet50(include_top=False,\n",
    "                                weights='imagenet',\n",
    "                                pooling='avg',)\n",
    ")\n",
    "model.add(\n",
    "    keras.layers.Dense(10, activation='softmax')\n",
    ")\n",
    "model.layers[0].trainable=False\n",
    "model.compile(loss=\"categorical_crossentropy\", optimizer='sgd',\n",
    "             metrics=['accuracy'])"
   ]
  },
  {
   "cell_type": "code",
   "execution_count": null,
   "metadata": {},
   "outputs": [],
   "source": [
    "epochs=20\n",
    "history = model.fit_generator(train_gen,\n",
    "                               steps_per_epoch=train_generator.samples // 32,\n",
    "                                epochs=epochs,\n",
    "                               validation_data=validation_generator,\n",
    "                               validation_steps=validation_generator.samples // 32\n",
    "                               )"
   ]
  }
 ],
 "metadata": {
  "kernelspec": {
   "display_name": "Python 3",
   "language": "python",
   "name": "python3"
  },
  "language_info": {
   "codemirror_mode": {
    "name": "ipython",
    "version": 3
   },
   "file_extension": ".py",
   "mimetype": "text/x-python",
   "name": "python",
   "nbconvert_exporter": "python",
   "pygments_lexer": "ipython3",
   "version": "3.7.4"
  }
 },
 "nbformat": 4,
 "nbformat_minor": 4
}
