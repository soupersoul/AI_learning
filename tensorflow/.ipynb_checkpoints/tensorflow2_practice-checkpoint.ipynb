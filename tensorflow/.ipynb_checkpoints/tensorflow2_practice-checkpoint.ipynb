{
 "cells": [
  {
   "cell_type": "code",
   "execution_count": 1,
   "metadata": {},
   "outputs": [],
   "source": [
    "import matplotlib as mpl\n",
    "import matplotlib.pyplot as plt\n",
    "%matplotlib inline\n",
    "import numpy as np\n",
    "import sklearn\n",
    "import pandas as pd\n",
    "import os\n",
    "import sys\n",
    "import time\n",
    "import tensorflow as tf\n",
    "\n",
    "from tensorflow import keras"
   ]
  },
  {
   "cell_type": "code",
   "execution_count": 45,
   "metadata": {},
   "outputs": [
    {
     "name": "stdout",
     "output_type": "stream",
     "text": [
      "(24, 7)\n",
      "(16, 1, 16)\n"
     ]
    }
   ],
   "source": [
    "batch_size = 16\n",
    "units = 10\n",
    "length = 12\n",
    "\n",
    "output = tf.ones((12, 2, 7))\n",
    "# output.shape: [batch_size, decoding_units]\n",
    "output = tf.reshape(output, (-1, output.shape[2]))\n",
    "print(output)\n",
    "\n",
    "\n",
    "decoder_hidden = tf.ones((batch_size, units))\n",
    "\n",
    "# decoder_hidden.shape: (batch_size, units)\n",
    "        # encoder_outputs.shape: (batch_size, length, units)\n",
    "decoder_hidden_with_time_axis = tf.expand_dims(decoder_hidden, 1) # decoder_hidden.shape becomes (batch_size, 1, units)\n",
    "encoder_outputs = tf.ones((batch_size, length, units))\n",
    "W1 = keras.layers.Dense(7)\n",
    "W2 = keras.layers.Dense(7)\n",
    "V = keras.layers.Dense(1)\n",
    "t= W2(decoder_hidden_with_time_axis)\n",
    "#print(t.shape)\n",
    "score = V(tf.nn.tanh(W1(encoder_outputs) + W2(decoder_hidden_with_time_axis)))\n",
    "#print(score.shape)\n",
    "\n",
    "attention_weights = tf.nn.softmax(score, axis=1)\n",
    "#print(attention_weights.shape)\n",
    "        # context_vector.shape: (batch_size, length, units)\n",
    "x = tf.ones((7, 5)) * tf.ones((1, 5))\n",
    "#print(x.shape)\n",
    "context_vector = attention_weights * encoder_outputs\n",
    "        # context_vector.shape: (batch_size, units)\n",
    "#context_vector = tf.reduce_sum(context_vector, axis=1)\n",
    "context_vector = tf.reduce_sum(tf.ones((9, 7, 5)), axis=0)\n",
    "#print(context_vector)\n",
    "\n",
    "\n",
    "# before embedding: x.shape: (batch_size, 1)\n",
    "# after embedding: x.shape: (batch_size, 1, embedding_units)\n",
    "x = tf.ones((batch_size, 1))\n",
    "embedding = keras.layers.Embedding(7, 5)\n",
    "x = embedding(x)\n",
    "#print(x)\n",
    "context_vector = tf.ones((batch_size, 11))\n",
    "\n",
    "combined_x = tf.concat([tf.expand_dims(context_vector, 1), x], axis = -1)\n",
    "print(combined_x.shape)\n",
    "\n",
    "\n"
   ]
  },
  {
   "cell_type": "code",
   "execution_count": 12,
   "metadata": {},
   "outputs": [
    {
     "name": "stdout",
     "output_type": "stream",
     "text": [
      "2.0.1\n",
      "(2, 4)\n"
     ]
    }
   ],
   "source": [
    "from tensorflow.keras.layers import Layer\n",
    "import tensorflow as tf\n",
    "\n",
    "class Linear(Layer):\n",
    "    def __init__(self, x_dim, units):\n",
    "        super().__init__()\n",
    "        #1\n",
    "        #w_init = tf.random_normal_initializer()\n",
    "        #self.w = tf.Variable(initial_value=w_init(shape=(x_dim, units), dtype=tf.float32), trainable=True)\n",
    "        #2\n",
    "        self.w = self.add_weight(shape=(x_dim, units), initializer='random_normal')\n",
    "        #1\n",
    "        #b_init = tf.zeros_initializer()\n",
    "        #self.b = tf.Variable(initial_value=b_init(shape=(units,), dtype=tf.float32), trainable=True)\n",
    "        #2\n",
    "        self.b = self.add_weight(shape=(units,), initializer=tf.constant_initializer(), trainable=True)\n",
    "        \n",
    "    def call(self, inputs):\n",
    "        return tf.matmul(inputs, self.w) + self.b\n",
    "\n",
    "print(tf.__version__)\n",
    "linear_layer = Linear(2, 4)\n",
    "y = linear_layer(tf.ones((2, 2)))\n",
    "print(y.shape)\n",
    "assert(linear_layer.weights==[linear_layer.w, linear_layer.b])"
   ]
  },
  {
   "cell_type": "code",
   "execution_count": 19,
   "metadata": {},
   "outputs": [
    {
     "name": "stdout",
     "output_type": "stream",
     "text": [
      "(2, 4)\n"
     ]
    }
   ],
   "source": [
    "from tensorflow.keras.layers import Layer\n",
    "import tensorflow as tf\n",
    "\n",
    "class Linear(Layer):\n",
    "    def __init__(self, units):\n",
    "        super().__init__()\n",
    "        self.units = units\n",
    "        \n",
    "    def build(self, input_shape):\n",
    "        self.w = self.add_weight(shape=(input_shape[-1], self.units), initializer=tf.random_normal_initializer(), trainable=True)\n",
    "        self.b = self.add_weight(shape=self.units, initializer=tf.constant_initializer(), trainable=True)\n",
    "        \n",
    "    def call(self, inputs):\n",
    "        return tf.matmul(inputs, self.w) + self.b\n",
    "    \n",
    "linear_layer = Linear(4)\n",
    "y = linear_layer(tf.ones((2, 2)))\n",
    "print(y.shape)"
   ]
  },
  {
   "cell_type": "code",
   "execution_count": 33,
   "metadata": {},
   "outputs": [
    {
     "name": "stdout",
     "output_type": "stream",
     "text": [
      "<tf.Variable 'Variable:0' shape=(2,) dtype=float32, numpy=array([3., 3.], dtype=float32)>\n",
      "<tf.Variable 'Variable:0' shape=(2,) dtype=float32, numpy=array([7., 7.], dtype=float32)>\n"
     ]
    }
   ],
   "source": [
    "from tensorflow.keras.layers import Layer\n",
    "import tensorflow as tf\n",
    "\n",
    "class ComputeSum(Layer):\n",
    "    def __init__(self, x_dim):\n",
    "        super().__init__()\n",
    "        self.total = tf.Variable(initial_value=tf.zeros(shape=(x_dim,)), trainable=False)\n",
    "    \n",
    "    def call(self, inputs):\n",
    "        self.total.assign_add(tf.reduce_sum(inputs, axis=0))\n",
    "        return self.total\n",
    "    \n",
    "sum = ComputeSum(2)\n",
    "y = sum(tf.ones((3,2)))\n",
    "print(y)\n",
    "y2 = sum(tf.ones((4,2)))\n",
    "print(y2)"
   ]
  },
  {
   "cell_type": "code",
   "execution_count": 37,
   "metadata": {},
   "outputs": [
    {
     "name": "stdout",
     "output_type": "stream",
     "text": [
      "(3, 10)\n"
     ]
    }
   ],
   "source": [
    "class MLP(Layer):\n",
    "    def __init__(self):\n",
    "        super().__init__()\n",
    "        self.linear_1 = Linear(32)\n",
    "        self.linear_2 = Linear(32)\n",
    "        self.linear_3 = Linear(10)\n",
    "        \n",
    "    def call(self, inputs):\n",
    "        x = self.linear_1(inputs)\n",
    "        x = tf.nn.relu(x)\n",
    "        x = self.linear_2(inputs)\n",
    "        x = tf.nn.relu(x)\n",
    "        x = self.linear_3(inputs)\n",
    "        return x\n",
    "    \n",
    "mlp = MLP()\n",
    "y = mlp(tf.ones((3, 64)))\n",
    "print(y.shape)\n",
    "assert len(mlp.weights)==6"
   ]
  },
  {
   "cell_type": "code",
   "execution_count": 41,
   "metadata": {},
   "outputs": [],
   "source": [
    "class Dropout(Layer):\n",
    "    def __init__(self, rate):\n",
    "        super().__init__()\n",
    "        self.rate = rate\n",
    "        \n",
    "    def call(self, inputs, training = None):\n",
    "        if training:\n",
    "            return tf.nn.dropout(inputs, rate = self.rate)\n",
    "        return inputs\n",
    "    \n",
    "class MLPWithDropout(Layer):\n",
    "    def __init__(self):\n",
    "        super().__init__()\n",
    "        self.linear_1 = Linear(32)\n",
    "        self.dropout = Dropout(0.5)\n",
    "        self.linear_2 = Linear(10)\n",
    "        \n",
    "    def call(self, inputs, training = None):\n",
    "        x = self.linear_1(inputs)\n",
    "        x = tf.nn.relu(x)\n",
    "        self.dropout(x, training = training)\n",
    "        x = self.linear_2(x)\n",
    "        return x\n",
    "    \n",
    "mlp = MLPWithDropout()\n",
    "y_train = mlp(tf.ones((2,2)), training = True)\n",
    "y_test = mlp(tf.ones((2, 2)), training = False)\n"
   ]
  },
  {
   "cell_type": "code",
   "execution_count": 44,
   "metadata": {},
   "outputs": [
    {
     "name": "stdout",
     "output_type": "stream",
     "text": [
      "4\n",
      "(2, 10)\n"
     ]
    }
   ],
   "source": [
    "inputs = tf.keras.layers.Input(shape=(16,))\n",
    "x = Linear(32)(inputs)\n",
    "x = Dropout(0.5)(x)\n",
    "outputs= Linear(10)(x)\n",
    "model = tf.keras.models.Model(inputs=inputs, outputs=outputs)\n",
    "y = model(tf.ones((2, 16)))\n",
    "print(len(model.weights))\n",
    "print(y.shape)"
   ]
  },
  {
   "cell_type": "code",
   "execution_count": 46,
   "metadata": {},
   "outputs": [
    {
     "name": "stdout",
     "output_type": "stream",
     "text": [
      "(2, 10)\n"
     ]
    }
   ],
   "source": [
    "from tensorflow.keras import Sequential\n",
    "model = Sequential([\n",
    "    Linear(32), Dropout(0.5), Linear(10)\n",
    "])\n",
    "y = model(tf.ones((2, 16)))\n",
    "print(y.shape)"
   ]
  },
  {
   "cell_type": "code",
   "execution_count": 47,
   "metadata": {},
   "outputs": [
    {
     "name": "stdout",
     "output_type": "stream",
     "text": [
      "15.379094\n"
     ]
    }
   ],
   "source": [
    "bce = tf.keras.losses.BinaryCrossentropy()\n",
    "y_true = [0., 0, 1., 1]\n",
    "y_pred = [1., 1, 0., 0]\n",
    "loss = bce(y_true, y_pred)\n",
    "print(loss.numpy())\n"
   ]
  },
  {
   "cell_type": "code",
   "execution_count": 48,
   "metadata": {},
   "outputs": [
    {
     "name": "stdout",
     "output_type": "stream",
     "text": [
      "temp result: 0.6666667\n",
      "final result: 0.71428573\n"
     ]
    }
   ],
   "source": [
    "m = tf.keras.metrics.AUC()\n",
    "m.update_state([0, 1, 1, 1],[0, 1, 0, 0])\n",
    "print(\"temp result:\", m.result().numpy())\n",
    "m.update_state([1, 1, 1, 1], [0, 1, 1, 0])\n",
    "print(\"final result:\", m.result().numpy())\n"
   ]
  },
  {
   "cell_type": "code",
   "execution_count": 51,
   "metadata": {},
   "outputs": [
    {
     "name": "stdout",
     "output_type": "stream",
     "text": [
      "temp result: 1.0\n",
      "final result: 3.0\n"
     ]
    }
   ],
   "source": [
    "class BinaryTruePositives(tf.keras.metrics.Metric):\n",
    "    def __init__(self, name=\"binary_true_positives\", **kwargs):\n",
    "        super().__init__(name=name, **kwargs)\n",
    "        self.true_positives = self.add_weight(name='cp', initializer = tf.zeros_initializer())\n",
    "        \n",
    "    def update_state(self, y_true, y_pred, sample_weight = None):\n",
    "        y_true = tf.cast(y_true, tf.bool)\n",
    "        y_pred = tf.cast(y_pred, tf.bool)\n",
    "        values = tf.logical_and(tf.equal(y_true, True), tf.equal(y_pred, True))\n",
    "        values = tf.cast(values, self.dtype)\n",
    "        if sample_weight is not None:\n",
    "            sample_weight = tf.cast(sample_weight, self.dtype)\n",
    "            sample_weight = tf.broadcast_weights(sample_weight, values)\n",
    "            values = tf.multiple(sample_weight, values)\n",
    "        self.true_positives.assign_add(tf.reduce_sum(values))\n",
    "        \n",
    "    def result(self):\n",
    "        return self.true_positives\n",
    "        \n",
    "    def reset_state(self):\n",
    "        self.true_positives.assign(0)\n",
    "        \n",
    "btp = BinaryTruePositives()\n",
    "btp.update_state([0, 1, 1, 1], [0, 1, 0, 0])\n",
    "print(\"temp result:\", btp.result().numpy())\n",
    "btp.update_state([1, 1, 1, 1], [0, 1, 1, 0])\n",
    "print(\"final result:\", btp.result().numpy())"
   ]
  },
  {
   "cell_type": "code",
   "execution_count": 55,
   "metadata": {},
   "outputs": [
    {
     "name": "stdout",
     "output_type": "stream",
     "text": [
      "step: 0\n",
      "Loss from lass step:2.351\n",
      "Total runing accuracy so far:0.109\n",
      "step: 100\n",
      "Loss from lass step:0.251\n",
      "Total runing accuracy so far:0.843\n",
      "step: 200\n",
      "Loss from lass step:0.334\n",
      "Total runing accuracy so far:0.877\n",
      "step: 300\n",
      "Loss from lass step:0.240\n",
      "Total runing accuracy so far:0.895\n",
      "step: 400\n",
      "Loss from lass step:0.111\n",
      "Total runing accuracy so far:0.908\n",
      "step: 500\n",
      "Loss from lass step:0.058\n",
      "Total runing accuracy so far:0.914\n",
      "step: 600\n",
      "Loss from lass step:0.166\n",
      "Total runing accuracy so far:0.921\n",
      "step: 700\n",
      "Loss from lass step:0.117\n",
      "Total runing accuracy so far:0.926\n",
      "step: 800\n",
      "Loss from lass step:0.170\n",
      "Total runing accuracy so far:0.929\n",
      "step: 900\n",
      "Loss from lass step:0.035\n",
      "Total runing accuracy so far:0.933\n"
     ]
    }
   ],
   "source": [
    "from tensorflow.keras import layers\n",
    "\n",
    "(x_train, y_train), (x_test, y_test) = tf.keras.datasets.mnist.load_data()\n",
    "x_train = x_train[:].reshape(60000, 784).astype('float32') / 255\n",
    "dataset = tf.data.Dataset.from_tensor_slices((x_train, y_train))\n",
    "dataset = dataset.shuffle(buffer_size=256).batch(64)\n",
    "\n",
    "model = tf.keras.models.Sequential([\n",
    "    layers.Dense(256, activation='relu'),\n",
    "    layers.Dense(256, activation='relu'),\n",
    "    layers.Dense(10)\n",
    "])\n",
    "\n",
    "loss = tf.keras.losses.SparseCategoricalCrossentropy(from_logits=True)\n",
    "accuracy = tf.keras.metrics.SparseCategoricalAccuracy()\n",
    "optimizer = tf.keras.optimizers.Adam()\n",
    "\n",
    "for step, (x, y) in enumerate(dataset):\n",
    "    with tf.GradientTape() as tape:\n",
    "        logits = model(x)\n",
    "        loss_value = loss(y, logits)\n",
    "    gradients = tape.gradient(loss_value, model.trainable_weights)\n",
    "    optimizer.apply_gradients(zip(gradients, model.trainable_weights))\n",
    "    accuracy.update_state(y, logits)\n",
    "    \n",
    "    if step % 100 == 0:\n",
    "        print(\"step:\",step)\n",
    "        print(\"Loss from lass step:%.3f\" %(loss_value,))\n",
    "        print(\"Total runing accuracy so far:%.3f\" %(accuracy.result()))"
   ]
  },
  {
   "cell_type": "code",
   "execution_count": null,
   "metadata": {},
   "outputs": [],
   "source": [
    "x_test = x_test[:].reshape(10000, 784).astype('float32') / 255\n",
    "test_data = tf.data.Dataset.from_tensor_slices((x_test, y_test))\n",
    "test_data = test_data.batch(128)\n",
    "accuracy.reset_states()\n",
    "for step, (x_t, y_t) in enumerate(test_data):\n",
    "    tlogits = model(x_t)\n",
    "    accuracy.update_state(y,logits)\n",
    "print(\"Final test accuracy: %.3f\" %accuracy.result())"
   ]
  },
  {
   "cell_type": "code",
   "execution_count": null,
   "metadata": {},
   "outputs": [],
   "source": []
  }
 ],
 "metadata": {
  "kernelspec": {
   "display_name": "Python 3",
   "language": "python",
   "name": "python3"
  },
  "language_info": {
   "codemirror_mode": {
    "name": "ipython",
    "version": 3
   },
   "file_extension": ".py",
   "mimetype": "text/x-python",
   "name": "python",
   "nbconvert_exporter": "python",
   "pygments_lexer": "ipython3",
   "version": "3.7.4"
  }
 },
 "nbformat": 4,
 "nbformat_minor": 4
}
