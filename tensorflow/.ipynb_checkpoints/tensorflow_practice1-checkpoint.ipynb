{
 "cells": [
  {
   "cell_type": "code",
   "execution_count": 1,
   "metadata": {},
   "outputs": [
    {
     "ename": "AttributeError",
     "evalue": "module 'tensorflow' has no attribute 'enable_eager_execution'",
     "output_type": "error",
     "traceback": [
      "\u001b[0;31m---------------------------------------------------------------------------\u001b[0m",
      "\u001b[0;31mAttributeError\u001b[0m                            Traceback (most recent call last)",
      "\u001b[0;32m<ipython-input-1-a7741366e470>\u001b[0m in \u001b[0;36m<module>\u001b[0;34m\u001b[0m\n\u001b[1;32m      3\u001b[0m \u001b[0;32mimport\u001b[0m \u001b[0mnumpy\u001b[0m \u001b[0;32mas\u001b[0m \u001b[0mnp\u001b[0m\u001b[0;34m\u001b[0m\u001b[0;34m\u001b[0m\u001b[0m\n\u001b[1;32m      4\u001b[0m \u001b[0;32mimport\u001b[0m \u001b[0mmatplotlib\u001b[0m\u001b[0;34m.\u001b[0m\u001b[0mpyplot\u001b[0m \u001b[0;32mas\u001b[0m \u001b[0mplt\u001b[0m\u001b[0;34m\u001b[0m\u001b[0;34m\u001b[0m\u001b[0m\n\u001b[0;32m----> 5\u001b[0;31m \u001b[0mtf\u001b[0m\u001b[0;34m.\u001b[0m\u001b[0menable_eager_execution\u001b[0m\u001b[0;34m(\u001b[0m\u001b[0;34m)\u001b[0m\u001b[0;34m\u001b[0m\u001b[0;34m\u001b[0m\u001b[0m\n\u001b[0m\u001b[1;32m      6\u001b[0m \u001b[0mget_ipython\u001b[0m\u001b[0;34m(\u001b[0m\u001b[0;34m)\u001b[0m\u001b[0;34m.\u001b[0m\u001b[0mrun_line_magic\u001b[0m\u001b[0;34m(\u001b[0m\u001b[0;34m'matplotlib'\u001b[0m\u001b[0;34m,\u001b[0m \u001b[0;34m'inline'\u001b[0m\u001b[0;34m)\u001b[0m\u001b[0;34m\u001b[0m\u001b[0;34m\u001b[0m\u001b[0m\n\u001b[1;32m      7\u001b[0m \u001b[0;32mimport\u001b[0m \u001b[0mtime\u001b[0m\u001b[0;34m\u001b[0m\u001b[0;34m\u001b[0m\u001b[0m\n",
      "\u001b[0;31mAttributeError\u001b[0m: module 'tensorflow' has no attribute 'enable_eager_execution'"
     ]
    }
   ],
   "source": [
    "import tensorflow as tf\n",
    "\n",
    "import numpy as np\n",
    "import matplotlib.pyplot as plt\n",
    "\n",
    "%matplotlib inline\n",
    "import time\n",
    "\n",
    "\n",
    "x_dim=2\n",
    "y_dim=1\n",
    "learn_rate=0.01\n",
    "\n",
    "W=tf.Variable(tf.random.normal(shape=(x_dim, y_dim)))\n",
    "b=tf.Variable(tf.random.normal(shape=(y_dim,)))\n",
    "\n",
    "def compute_prediction(x):\n",
    "    return tf.matmul(x, W) + b\n",
    "\n",
    "def compute_loss(labels, predictions):\n",
    "    return tf.reduce_mean(tf.square(labels - predictions))\n",
    "\n",
    "@tf.function\n",
    "def train_on_batch(x, y):\n",
    "    with tf.GradientTape() as tape:\n",
    "        predictions = compute_prediction(x)\n",
    "        loss = compute_loss(y, predictions)\n",
    "        dloss_w, dloss_b = tape.gradient(loss, [W, b])\n",
    "    W.assign_sub(dloss_w * learn_rate)\n",
    "    b.assign_sub(dloss_b * learn_rate)\n",
    "    return loss\n",
    "\n",
    "samples_num= 1000\n",
    "negative_samples = np.random.multivariate_normal(mean=[0, 3], cov=[[1,0.5],[0.5,1]],size=samples_num)\n",
    "positive_samples=np.random.multivariate_normal(mean=[3,0], cov=[[0.5,1],[1, 0.5]], size=samples_num)\n",
    "\n",
    "x = np.vstack((negative_samples, positive_samples)).astype(np.float32)\n",
    "y = np.vstack((np.zeros((samples_num, 1),dtype=np.float32),  np.ones((samples_num, 1), dtype=np.float32)))\n",
    "\n",
    "plt.scatter(x[:, 0], x[:, 1], y[:, 0])\n",
    "\n",
    "indices = np.random.permutation(len(x))\n",
    "x = x[indices]\n",
    "y = y[indices]\n",
    "dataset = tf.data.Dataset.from_tensor_slices((x, y))\n",
    "dataset = dataset.shuffle(buffer_size=1024).batch(256)\n",
    "\n",
    "t0 = time.time()\n",
    "for epoch in range(10):\n",
    "    for _step, (x_, y_) in enumerate(dataset):\n",
    "       loss =  train_on_batch(x_, y_)\n",
    "    print(\"Epoch %d: last batch loss = %.4f\" %(epoch, float(loss)))\n",
    "t = time.time() - t0\n",
    "print(\"Time per epoch: %.3f s\" %(t/10,))\n",
    "\n",
    "predictions = compute_prediction(x)\n",
    "plt.scatter(x[:,0],x[:,1],c=predictions[:,0]>0.5)"
   ]
  },
  {
   "cell_type": "code",
   "execution_count": null,
   "metadata": {},
   "outputs": [],
   "source": []
  },
  {
   "cell_type": "code",
   "execution_count": null,
   "metadata": {},
   "outputs": [],
   "source": []
  }
 ],
 "metadata": {
  "kernelspec": {
   "display_name": "Python 2",
   "language": "python",
   "name": "python2"
  },
  "language_info": {
   "codemirror_mode": {
    "name": "ipython",
    "version": 3
   },
   "file_extension": ".py",
   "mimetype": "text/x-python",
   "name": "python",
   "nbconvert_exporter": "python",
   "pygments_lexer": "ipython3",
   "version": "3.7.4"
  }
 },
 "nbformat": 4,
 "nbformat_minor": 2
}
