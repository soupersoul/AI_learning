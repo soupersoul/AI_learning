{
 "cells": [
  {
   "cell_type": "code",
   "execution_count": 1,
   "metadata": {},
   "outputs": [],
   "source": [
    "import matplotlib as mpl\n",
    "import matplotlib.pyplot as plt\n",
    "%matplotlib inline\n",
    "import numpy as np\n",
    "import sklearn\n",
    "import pandas as pd\n",
    "import os\n",
    "import sys\n",
    "import time\n",
    "import tensorflow as tf\n",
    "\n",
    "from tensorflow import keras"
   ]
  },
  {
   "cell_type": "code",
   "execution_count": 2,
   "metadata": {},
   "outputs": [
    {
     "name": "stdout",
     "output_type": "stream",
     "text": [
      "627\n",
      "264\n",
      "   survived     sex   age  n_siblings_spouses  parch     fare  class     deck  \\\n",
      "0         0    male  22.0                   1      0   7.2500  Third  unknown   \n",
      "1         1  female  38.0                   1      0  71.2833  First        C   \n",
      "2         1  female  26.0                   0      0   7.9250  Third  unknown   \n",
      "3         1  female  35.0                   1      0  53.1000  First        C   \n",
      "4         0    male  28.0                   0      0   8.4583  Third  unknown   \n",
      "\n",
      "   embark_town alone  \n",
      "0  Southampton     n  \n",
      "1    Cherbourg     n  \n",
      "2  Southampton     y  \n",
      "3  Southampton     n  \n",
      "4   Queenstown     y  \n"
     ]
    }
   ],
   "source": [
    "#https://storage.googleapis.com/tf-datasets/titanic/train.csv\n",
    "#https://storage.googleapis.com/tf-datasets/titanic/eval.csv\n",
    "train_file = \"./data/train.csv\"\n",
    "eval_file = \"./data/eval.csv\"\n",
    "\n",
    "train_df = pd.read_csv(train_file)\n",
    "eval_df = pd.read_csv(eval_file)\n",
    "print(len(train_df))\n",
    "print(len(eval_df))\n",
    "print(train_df.head())  # head() 默认取前５条数据"
   ]
  },
  {
   "cell_type": "code",
   "execution_count": 3,
   "metadata": {},
   "outputs": [],
   "source": [
    "y_train = train_df.pop('survived')\n",
    "y_eval = eval_df.pop('survived')"
   ]
  },
  {
   "cell_type": "code",
   "execution_count": 4,
   "metadata": {},
   "outputs": [
    {
     "name": "stdout",
     "output_type": "stream",
     "text": [
      "sex ['male' 'female']\n",
      "n_siblings_spouses [1 0 3 4 2 5 8]\n",
      "parch [0 1 2 5 3 4]\n",
      "class ['Third' 'First' 'Second']\n",
      "deck ['unknown' 'C' 'G' 'A' 'B' 'D' 'F' 'E']\n",
      "embark_town ['Southampton' 'Cherbourg' 'Queenstown' 'unknown']\n",
      "alone ['n' 'y']\n"
     ]
    }
   ],
   "source": [
    "categorical_columns = ['sex', 'n_siblings_spouses', 'parch', 'class', 'deck', 'embark_town', 'alone']\n",
    "numeric_columns = ['age', 'fare']\n",
    "\n",
    "feature_columns = []\n",
    "for cc in categorical_columns:\n",
    "    vocab = train_df[cc].unique()\n",
    "    print(cc, vocab)\n",
    "    feature_columns.append(\n",
    "        tf.feature_column.indicator_column( # indicator_column: can do one hot\n",
    "            tf.feature_column.categorical_column_with_vocabulary_list(\n",
    "                cc, vocab\n",
    "            )\n",
    "        )\n",
    "    )\n",
    "    \n",
    "for cc in numeric_columns:\n",
    "    feature_columns.append(\n",
    "        tf.feature_column.numeric_column(\n",
    "            cc, dtype=tf.float32\n",
    "        )\n",
    "    )"
   ]
  },
  {
   "cell_type": "code",
   "execution_count": 5,
   "metadata": {},
   "outputs": [],
   "source": [
    "def make_dataset(data_df, label_df, epochs = 10, shuffle=True, batch_size =32):\n",
    "    dataset = tf.data.Dataset.from_tensor_slices(\n",
    "        (dict(data_df), label_df)\n",
    "    )\n",
    "    if shuffle:\n",
    "        dataset = dataset.shuffle(10000)\n",
    "    dataset = dataset.repeat(epochs).batch(batch_size)\n",
    "    return dataset"
   ]
  },
  {
   "cell_type": "code",
   "execution_count": 6,
   "metadata": {},
   "outputs": [
    {
     "ename": "TypeError",
     "evalue": "__init__() got an unexpected keyword argument 'feature_columns'",
     "output_type": "error",
     "traceback": [
      "\u001b[0;31m---------------------------------------------------------------------------\u001b[0m",
      "\u001b[0;31mTypeError\u001b[0m                                 Traceback (most recent call last)",
      "\u001b[0;32m<ipython-input-6-a5eaa57d3f12>\u001b[0m in \u001b[0;36m<module>\u001b[0;34m\u001b[0m\n\u001b[1;32m      7\u001b[0m     \u001b[0mmodel_dir\u001b[0m \u001b[0;34m=\u001b[0m \u001b[0moutput_dir\u001b[0m\u001b[0;34m,\u001b[0m\u001b[0;34m\u001b[0m\u001b[0;34m\u001b[0m\u001b[0m\n\u001b[1;32m      8\u001b[0m     \u001b[0mn_classes\u001b[0m \u001b[0;34m=\u001b[0m \u001b[0;36m2\u001b[0m\u001b[0;34m,\u001b[0m\u001b[0;34m\u001b[0m\u001b[0;34m\u001b[0m\u001b[0m\n\u001b[0;32m----> 9\u001b[0;31m     \u001b[0mfeature_columns\u001b[0m\u001b[0;34m=\u001b[0m\u001b[0mfeature_columns\u001b[0m\u001b[0;34m\u001b[0m\u001b[0;34m\u001b[0m\u001b[0m\n\u001b[0m\u001b[1;32m     10\u001b[0m )\n\u001b[1;32m     11\u001b[0m baseline_estimator.train(\n",
      "\u001b[0;31mTypeError\u001b[0m: __init__() got an unexpected keyword argument 'feature_columns'"
     ]
    }
   ],
   "source": [
    "output_dir = \"baseline_model\"\n",
    "if not os.path.exists(output_dir):\n",
    "    os.mkdir(output_dir)\n",
    "    \n",
    "# BaselineClassifier： 根据分类在出现在样本中的比例，来进行预测类别，没有什么模型，只是根据比例来随机猜测\n",
    "baseline_estimator = tf.estimator.BaselineClassifier(\n",
    "    model_dir = output_dir,\n",
    "    n_classes = 2\n",
    ")\n",
    "baseline_estimator.train(\n",
    "    input_fn = lambda : make_dataset(train_df, y_train, epochs=100)\n",
    ")"
   ]
  },
  {
   "cell_type": "code",
   "execution_count": null,
   "metadata": {},
   "outputs": [],
   "source": [
    "baseline_estimator.evaluate(\n",
    "    input_fn = lambda : make_dataset(\n",
    "        eval_df, yeval, epochs = 1, shuffle=False, batch_size=20\n",
    "    )\n",
    ")"
   ]
  },
  {
   "cell_type": "code",
   "execution_count": 30,
   "metadata": {},
   "outputs": [
    {
     "name": "stdout",
     "output_type": "stream",
     "text": [
      "INFO:tensorflow:Using default config.\n",
      "INFO:tensorflow:Using config: {'_model_dir': 'linear_model', '_tf_random_seed': None, '_save_summary_steps': 100, '_save_checkpoints_steps': None, '_save_checkpoints_secs': 600, '_session_config': allow_soft_placement: true\n",
      "graph_options {\n",
      "  rewrite_options {\n",
      "    meta_optimizer_iterations: ONE\n",
      "  }\n",
      "}\n",
      ", '_keep_checkpoint_max': 5, '_keep_checkpoint_every_n_hours': 10000, '_log_step_count_steps': 100, '_train_distribute': None, '_device_fn': None, '_protocol': None, '_eval_distribute': None, '_experimental_distribute': None, '_experimental_max_worker_delay_secs': None, '_session_creation_timeout_secs': 7200, '_service': None, '_cluster_spec': <tensorflow.python.training.server_lib.ClusterSpec object at 0x7f54b21394d0>, '_task_type': 'worker', '_task_id': 0, '_global_id_in_cluster': 0, '_master': '', '_evaluation_master': '', '_is_chief': True, '_num_ps_replicas': 0, '_num_worker_replicas': 1}\n",
      "INFO:tensorflow:Calling model_fn.\n",
      "WARNING:tensorflow:Layer linear/linear_model is casting an input tensor from dtype float64 to the layer's dtype of float32, which is new behavior in TensorFlow 2.  The layer has dtype float32 because it's dtype defaults to floatx.\n",
      "\n",
      "If you intended to run this layer in float32, you can safely ignore this warning. If in doubt, this warning is likely only an issue if you are porting a TensorFlow 1.X model to TensorFlow 2.\n",
      "\n",
      "To change all layers to have dtype float64 by default, call `tf.keras.backend.set_floatx('float64')`. To change just this layer, pass dtype='float64' to the layer constructor. If you are the author of this layer, you can disable autocasting by passing autocast=False to the base Layer constructor.\n",
      "\n",
      "WARNING:tensorflow:From /home/zx/anaconda3/envs/tf2/lib/python3.7/site-packages/tensorflow_core/python/feature_column/feature_column_v2.py:518: Layer.add_variable (from tensorflow.python.keras.engine.base_layer) is deprecated and will be removed in a future version.\n",
      "Instructions for updating:\n",
      "Please use `layer.add_weight` method instead.\n",
      "INFO:tensorflow:Done calling model_fn.\n",
      "INFO:tensorflow:Create CheckpointSaverHook.\n",
      "INFO:tensorflow:Graph was finalized.\n",
      "INFO:tensorflow:Running local_init_op.\n",
      "INFO:tensorflow:Done running local_init_op.\n",
      "INFO:tensorflow:Saving checkpoints for 0 into linear_model/model.ckpt.\n",
      "INFO:tensorflow:loss = 0.6931472, step = 0\n",
      "INFO:tensorflow:global_step/sec: 412.362\n",
      "INFO:tensorflow:loss = 0.47426462, step = 100 (0.268 sec)\n",
      "INFO:tensorflow:global_step/sec: 579.231\n",
      "INFO:tensorflow:loss = 0.4578509, step = 200 (0.147 sec)\n",
      "INFO:tensorflow:global_step/sec: 701.973\n",
      "INFO:tensorflow:loss = 0.42379293, step = 300 (0.143 sec)\n",
      "INFO:tensorflow:global_step/sec: 663.935\n",
      "INFO:tensorflow:loss = 0.30945522, step = 400 (0.149 sec)\n",
      "INFO:tensorflow:global_step/sec: 775.443\n",
      "INFO:tensorflow:loss = 0.3899627, step = 500 (0.129 sec)\n",
      "INFO:tensorflow:global_step/sec: 744.51\n",
      "INFO:tensorflow:loss = 0.36005253, step = 600 (0.134 sec)\n",
      "INFO:tensorflow:global_step/sec: 629.616\n",
      "INFO:tensorflow:loss = 0.4255156, step = 700 (0.159 sec)\n",
      "INFO:tensorflow:global_step/sec: 683.559\n",
      "INFO:tensorflow:loss = 0.42667824, step = 800 (0.146 sec)\n",
      "INFO:tensorflow:global_step/sec: 913.499\n",
      "INFO:tensorflow:loss = 0.40167302, step = 900 (0.109 sec)\n",
      "INFO:tensorflow:global_step/sec: 844.492\n",
      "INFO:tensorflow:loss = 0.598343, step = 1000 (0.119 sec)\n",
      "INFO:tensorflow:global_step/sec: 658.059\n",
      "INFO:tensorflow:loss = 0.617141, step = 1100 (0.153 sec)\n",
      "INFO:tensorflow:global_step/sec: 639.927\n",
      "INFO:tensorflow:loss = 0.44924688, step = 1200 (0.156 sec)\n",
      "INFO:tensorflow:global_step/sec: 746.468\n",
      "INFO:tensorflow:loss = 0.47198445, step = 1300 (0.134 sec)\n",
      "INFO:tensorflow:global_step/sec: 662.447\n",
      "INFO:tensorflow:loss = 0.5034599, step = 1400 (0.151 sec)\n",
      "INFO:tensorflow:global_step/sec: 650.941\n",
      "INFO:tensorflow:loss = 0.42909026, step = 1500 (0.153 sec)\n",
      "INFO:tensorflow:global_step/sec: 794.946\n",
      "INFO:tensorflow:loss = 0.55460566, step = 1600 (0.126 sec)\n",
      "INFO:tensorflow:global_step/sec: 882.794\n",
      "INFO:tensorflow:loss = 0.25483602, step = 1700 (0.113 sec)\n",
      "INFO:tensorflow:global_step/sec: 919.024\n",
      "INFO:tensorflow:loss = 0.4273082, step = 1800 (0.109 sec)\n",
      "INFO:tensorflow:global_step/sec: 963.368\n",
      "INFO:tensorflow:loss = 0.30495834, step = 1900 (0.104 sec)\n",
      "INFO:tensorflow:Saving checkpoints for 1960 into linear_model/model.ckpt.\n",
      "INFO:tensorflow:Loss for final step: 0.30626085.\n"
     ]
    },
    {
     "data": {
      "text/plain": [
       "<tensorflow_estimator.python.estimator.canned.linear.LinearClassifierV2 at 0x7f54b2136d10>"
      ]
     },
     "execution_count": 30,
     "metadata": {},
     "output_type": "execute_result"
    }
   ],
   "source": [
    "linear_output_dir = \"linear_model\"\n",
    "if not os.path.exists(linear_output_dir):\n",
    "    os.mkdir(linear_output_dir)\n",
    "    \n",
    "linear_estimator = tf.estimator.LinearClassifier(\n",
    "    model_dir = linear_output_dir,\n",
    "    n_classes=2,\n",
    "    feature_columns=feature_columns\n",
    ")\n",
    "\n",
    "linear_estimator.train(\n",
    "    input_fn = lambda : make_dataset(\n",
    "        train_df, y_train, epochs=100\n",
    "    )\n",
    ")"
   ]
  },
  {
   "cell_type": "code",
   "execution_count": 32,
   "metadata": {},
   "outputs": [
    {
     "name": "stdout",
     "output_type": "stream",
     "text": [
      "INFO:tensorflow:Calling model_fn.\n",
      "WARNING:tensorflow:Layer linear/linear_model is casting an input tensor from dtype float64 to the layer's dtype of float32, which is new behavior in TensorFlow 2.  The layer has dtype float32 because it's dtype defaults to floatx.\n",
      "\n",
      "If you intended to run this layer in float32, you can safely ignore this warning. If in doubt, this warning is likely only an issue if you are porting a TensorFlow 1.X model to TensorFlow 2.\n",
      "\n",
      "To change all layers to have dtype float64 by default, call `tf.keras.backend.set_floatx('float64')`. To change just this layer, pass dtype='float64' to the layer constructor. If you are the author of this layer, you can disable autocasting by passing autocast=False to the base Layer constructor.\n",
      "\n",
      "INFO:tensorflow:Done calling model_fn.\n",
      "INFO:tensorflow:Starting evaluation at 2020-02-29T16:37:36Z\n",
      "INFO:tensorflow:Graph was finalized.\n",
      "INFO:tensorflow:Restoring parameters from linear_model/model.ckpt-1960\n",
      "INFO:tensorflow:Running local_init_op.\n",
      "INFO:tensorflow:Done running local_init_op.\n",
      "INFO:tensorflow:Finished evaluation at 2020-02-29-16:37:37\n",
      "INFO:tensorflow:Saving dict for global step 1960: accuracy = 0.78409094, accuracy_baseline = 0.625, auc = 0.83881235, auc_precision_recall = 0.77860093, average_loss = 0.4690346, global_step = 1960, label/mean = 0.375, loss = 0.45286942, precision = 0.71, prediction/mean = 0.38596186, recall = 0.7171717\n",
      "INFO:tensorflow:Saving 'checkpoint_path' summary for global step 1960: linear_model/model.ckpt-1960\n"
     ]
    },
    {
     "data": {
      "text/plain": [
       "{'accuracy': 0.78409094,\n",
       " 'accuracy_baseline': 0.625,\n",
       " 'auc': 0.83881235,\n",
       " 'auc_precision_recall': 0.77860093,\n",
       " 'average_loss': 0.4690346,\n",
       " 'label/mean': 0.375,\n",
       " 'loss': 0.45286942,\n",
       " 'precision': 0.71,\n",
       " 'prediction/mean': 0.38596186,\n",
       " 'recall': 0.7171717,\n",
       " 'global_step': 1960}"
      ]
     },
     "execution_count": 32,
     "metadata": {},
     "output_type": "execute_result"
    }
   ],
   "source": [
    "linear_estimator.evaluate(\n",
    "    input_fn = lambda: make_dataset(\n",
    "        eval_df, y_eval, epochs=1, shuffle=False\n",
    "    )\n",
    "\n",
    ")"
   ]
  },
  {
   "cell_type": "code",
   "execution_count": 33,
   "metadata": {},
   "outputs": [
    {
     "name": "stdout",
     "output_type": "stream",
     "text": [
      "INFO:tensorflow:Using default config.\n",
      "INFO:tensorflow:Using config: {'_model_dir': './dnn_model', '_tf_random_seed': None, '_save_summary_steps': 100, '_save_checkpoints_steps': None, '_save_checkpoints_secs': 600, '_session_config': allow_soft_placement: true\n",
      "graph_options {\n",
      "  rewrite_options {\n",
      "    meta_optimizer_iterations: ONE\n",
      "  }\n",
      "}\n",
      ", '_keep_checkpoint_max': 5, '_keep_checkpoint_every_n_hours': 10000, '_log_step_count_steps': 100, '_train_distribute': None, '_device_fn': None, '_protocol': None, '_eval_distribute': None, '_experimental_distribute': None, '_experimental_max_worker_delay_secs': None, '_session_creation_timeout_secs': 7200, '_service': None, '_cluster_spec': <tensorflow.python.training.server_lib.ClusterSpec object at 0x7f553c5f5b10>, '_task_type': 'worker', '_task_id': 0, '_global_id_in_cluster': 0, '_master': '', '_evaluation_master': '', '_is_chief': True, '_num_ps_replicas': 0, '_num_worker_replicas': 1}\n",
      "INFO:tensorflow:Calling model_fn.\n",
      "WARNING:tensorflow:Layer dnn is casting an input tensor from dtype float64 to the layer's dtype of float32, which is new behavior in TensorFlow 2.  The layer has dtype float32 because it's dtype defaults to floatx.\n",
      "\n",
      "If you intended to run this layer in float32, you can safely ignore this warning. If in doubt, this warning is likely only an issue if you are porting a TensorFlow 1.X model to TensorFlow 2.\n",
      "\n",
      "To change all layers to have dtype float64 by default, call `tf.keras.backend.set_floatx('float64')`. To change just this layer, pass dtype='float64' to the layer constructor. If you are the author of this layer, you can disable autocasting by passing autocast=False to the base Layer constructor.\n",
      "\n",
      "INFO:tensorflow:Done calling model_fn.\n",
      "INFO:tensorflow:Create CheckpointSaverHook.\n",
      "INFO:tensorflow:Graph was finalized.\n",
      "INFO:tensorflow:Running local_init_op.\n",
      "INFO:tensorflow:Done running local_init_op.\n",
      "INFO:tensorflow:Saving checkpoints for 0 into ./dnn_model/model.ckpt.\n",
      "INFO:tensorflow:loss = 3.1524065, step = 0\n",
      "INFO:tensorflow:global_step/sec: 249.128\n",
      "INFO:tensorflow:loss = 0.6085498, step = 100 (0.399 sec)\n",
      "INFO:tensorflow:global_step/sec: 506.59\n",
      "INFO:tensorflow:loss = 0.50165707, step = 200 (0.197 sec)\n",
      "INFO:tensorflow:global_step/sec: 501.845\n",
      "INFO:tensorflow:loss = 0.5016179, step = 300 (0.199 sec)\n",
      "INFO:tensorflow:global_step/sec: 500.274\n",
      "INFO:tensorflow:loss = 0.5726531, step = 400 (0.200 sec)\n",
      "INFO:tensorflow:global_step/sec: 500.882\n",
      "INFO:tensorflow:loss = 0.39135987, step = 500 (0.200 sec)\n",
      "INFO:tensorflow:global_step/sec: 486.289\n",
      "INFO:tensorflow:loss = 0.3256236, step = 600 (0.206 sec)\n",
      "INFO:tensorflow:global_step/sec: 463.175\n",
      "INFO:tensorflow:loss = 0.3215348, step = 700 (0.216 sec)\n",
      "INFO:tensorflow:global_step/sec: 424.701\n",
      "INFO:tensorflow:loss = 0.40367538, step = 800 (0.236 sec)\n",
      "INFO:tensorflow:global_step/sec: 462.275\n",
      "INFO:tensorflow:loss = 0.31740475, step = 900 (0.216 sec)\n",
      "INFO:tensorflow:global_step/sec: 488.82\n",
      "INFO:tensorflow:loss = 0.4398432, step = 1000 (0.207 sec)\n",
      "INFO:tensorflow:global_step/sec: 487.447\n",
      "INFO:tensorflow:loss = 0.41693705, step = 1100 (0.204 sec)\n",
      "INFO:tensorflow:global_step/sec: 491.273\n",
      "INFO:tensorflow:loss = 0.37203816, step = 1200 (0.202 sec)\n",
      "INFO:tensorflow:global_step/sec: 484.335\n",
      "INFO:tensorflow:loss = 0.2997513, step = 1300 (0.207 sec)\n",
      "INFO:tensorflow:global_step/sec: 461.066\n",
      "INFO:tensorflow:loss = 0.29912525, step = 1400 (0.221 sec)\n",
      "INFO:tensorflow:global_step/sec: 473.749\n",
      "INFO:tensorflow:loss = 0.24242392, step = 1500 (0.206 sec)\n",
      "INFO:tensorflow:global_step/sec: 466.857\n",
      "INFO:tensorflow:loss = 0.3087461, step = 1600 (0.214 sec)\n",
      "INFO:tensorflow:global_step/sec: 482.445\n",
      "INFO:tensorflow:loss = 0.27745673, step = 1700 (0.208 sec)\n",
      "INFO:tensorflow:global_step/sec: 447.967\n",
      "INFO:tensorflow:loss = 0.29771525, step = 1800 (0.224 sec)\n",
      "INFO:tensorflow:global_step/sec: 465.545\n",
      "INFO:tensorflow:loss = 0.25658506, step = 1900 (0.213 sec)\n",
      "INFO:tensorflow:Saving checkpoints for 1960 into ./dnn_model/model.ckpt.\n",
      "INFO:tensorflow:Loss for final step: 0.38979384.\n"
     ]
    },
    {
     "data": {
      "text/plain": [
       "<tensorflow_estimator.python.estimator.canned.dnn.DNNClassifierV2 at 0x7f553c317910>"
      ]
     },
     "execution_count": 33,
     "metadata": {},
     "output_type": "execute_result"
    }
   ],
   "source": [
    "dnn_output_dir = \"./dnn_model\"\n",
    "if not os.path.exists(dnn_output_dir):\n",
    "    os.mkdir(dnn_output_dir)\n",
    "    \n",
    "dnn_estimator = tf.estimator.DNNClassifier(\n",
    "    model_dir = dnn_output_dir,\n",
    "    n_classes =2 ,\n",
    "    feature_columns = feature_columns,\n",
    "    hidden_units = [30, 30],  # 每层的单元数\n",
    "    activation_fn = tf.nn.relu,\n",
    "    optimizer = 'Adam',\n",
    ")\n",
    "dnn_estimator.train(\n",
    "    input_fn = lambda: make_dataset(\n",
    "        train_df, y_train, epochs=100\n",
    "    )\n",
    ")"
   ]
  },
  {
   "cell_type": "code",
   "execution_count": 34,
   "metadata": {},
   "outputs": [
    {
     "name": "stdout",
     "output_type": "stream",
     "text": [
      "INFO:tensorflow:Calling model_fn.\n",
      "WARNING:tensorflow:Layer dnn is casting an input tensor from dtype float64 to the layer's dtype of float32, which is new behavior in TensorFlow 2.  The layer has dtype float32 because it's dtype defaults to floatx.\n",
      "\n",
      "If you intended to run this layer in float32, you can safely ignore this warning. If in doubt, this warning is likely only an issue if you are porting a TensorFlow 1.X model to TensorFlow 2.\n",
      "\n",
      "To change all layers to have dtype float64 by default, call `tf.keras.backend.set_floatx('float64')`. To change just this layer, pass dtype='float64' to the layer constructor. If you are the author of this layer, you can disable autocasting by passing autocast=False to the base Layer constructor.\n",
      "\n",
      "INFO:tensorflow:Done calling model_fn.\n",
      "INFO:tensorflow:Starting evaluation at 2020-02-29T16:41:41Z\n",
      "INFO:tensorflow:Graph was finalized.\n",
      "INFO:tensorflow:Restoring parameters from ./dnn_model/model.ckpt-1960\n",
      "INFO:tensorflow:Running local_init_op.\n",
      "INFO:tensorflow:Done running local_init_op.\n",
      "INFO:tensorflow:Finished evaluation at 2020-02-29-16:41:42\n",
      "INFO:tensorflow:Saving dict for global step 1960: accuracy = 0.7878788, accuracy_baseline = 0.625, auc = 0.8543006, auc_precision_recall = 0.78625816, average_loss = 0.45781255, global_step = 1960, label/mean = 0.375, loss = 0.4404432, precision = 0.72164947, prediction/mean = 0.35271296, recall = 0.7070707\n",
      "INFO:tensorflow:Saving 'checkpoint_path' summary for global step 1960: ./dnn_model/model.ckpt-1960\n"
     ]
    },
    {
     "data": {
      "text/plain": [
       "{'accuracy': 0.7878788,\n",
       " 'accuracy_baseline': 0.625,\n",
       " 'auc': 0.8543006,\n",
       " 'auc_precision_recall': 0.78625816,\n",
       " 'average_loss': 0.45781255,\n",
       " 'label/mean': 0.375,\n",
       " 'loss': 0.4404432,\n",
       " 'precision': 0.72164947,\n",
       " 'prediction/mean': 0.35271296,\n",
       " 'recall': 0.7070707,\n",
       " 'global_step': 1960}"
      ]
     },
     "execution_count": 34,
     "metadata": {},
     "output_type": "execute_result"
    }
   ],
   "source": [
    "dnn_estimator.evaluate(\n",
    "    input_fn = lambda: make_dataset(\n",
    "        eval_df, y_eval, epochs=1, shuffle=False\n",
    "    )\n",
    "\n",
    ")"
   ]
  },
  {
   "cell_type": "code",
   "execution_count": null,
   "metadata": {},
   "outputs": [],
   "source": []
  }
 ],
 "metadata": {
  "kernelspec": {
   "display_name": "Python 3",
   "language": "python",
   "name": "python3"
  },
  "language_info": {
   "codemirror_mode": {
    "name": "ipython",
    "version": 3
   },
   "file_extension": ".py",
   "mimetype": "text/x-python",
   "name": "python",
   "nbconvert_exporter": "python",
   "pygments_lexer": "ipython3",
   "version": "3.7.4"
  }
 },
 "nbformat": 4,
 "nbformat_minor": 4
}
