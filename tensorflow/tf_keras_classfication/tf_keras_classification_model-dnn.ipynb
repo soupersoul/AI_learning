{
 "cells": [
  {
   "cell_type": "code",
   "execution_count": 1,
   "metadata": {},
   "outputs": [
    {
     "name": "stdout",
     "output_type": "stream",
     "text": [
      "2.1.0\n",
      "sys.version_info(major=3, minor=6, micro=9, releaselevel='final', serial=0)\n",
      "matplotlib 3.1.3\n",
      "numpy 1.18.1\n",
      "pandas 1.0.1\n",
      "sklearn 0.22.1\n",
      "tensorflow 2.1.0\n",
      "tensorflow_core.python.keras.api._v2.keras 2.2.4-tf\n"
     ]
    }
   ],
   "source": [
    "import matplotlib as mpl\n",
    "import matplotlib.pyplot as plt\n",
    "%matplotlib inline\n",
    "import numpy as np\n",
    "import sklearn\n",
    "import pandas as pd\n",
    "import os\n",
    "import sys\n",
    "import time\n",
    "import tensorflow as tf\n",
    "\n",
    "from tensorflow import keras\n",
    "\n",
    "print(tf.__version__)\n",
    "print(sys.version_info)\n",
    "for module in mpl, np, pd, sklearn, tf, keras:\n",
    "    print(module.__name__, module.__version__)"
   ]
  },
  {
   "cell_type": "code",
   "execution_count": 2,
   "metadata": {},
   "outputs": [
    {
     "name": "stdout",
     "output_type": "stream",
     "text": [
      "(5000, 28, 28) (5000,)\n",
      "(55000, 28, 28) (55000,)\n",
      "(10000, 28, 28) (10000,)\n"
     ]
    }
   ],
   "source": [
    "fashion_mnist = keras.datasets.fashion_mnist\n",
    "(x_train_all, y_train_all), (x_test, y_test) = fashion_mnist.load_data()\n",
    "x_valid, x_train = x_train_all[:5000], x_train_all[5000:]\n",
    "y_valid, y_train = y_train_all[:5000], y_train_all[5000:]\n",
    "print(x_valid.shape, y_valid.shape)\n",
    "print(x_train.shape, y_train.shape)\n",
    "print(x_test.shape, y_test.shape)\n"
   ]
  },
  {
   "cell_type": "code",
   "execution_count": 10,
   "metadata": {},
   "outputs": [],
   "source": [
    "# tf.keras.models.Sequential()\n",
    "model = keras.models.Sequential()\n",
    "model.add(keras.layers.Flatten(input_shape=[28, 28]))\n",
    "for _ in range(20):\n",
    "    model.add(keras.layers.Dense(100, activation=\"relu\"))\n",
    "model.add(keras.layers.Dense(10, activation=\"softmax\"))\n",
    "# relu: y = max(0, x)\n",
    "# softmax: 将向量变成概率分布。\n",
    "# x = [x1, x2, x3]\n",
    "# y = [e^x1/sum, e^x2/sum, e^x3/sum],   sum = e^x1 + e^x2 + e^x3\n",
    "\n",
    "# reason for sparse:\n",
    "# 若y是index(一维index值)，则用sparse转为向量    sparse_categorical_crossentropy\n",
    "# 若y是one_hot(即y已经是向量)，则不需要sparse    categorical_crossentropy\n",
    "model.compile(loss=\"sparse_categorical_crossentropy\", optimizer=\"sgd\", metrics=[\"accuracy\"])"
   ]
  },
  {
   "cell_type": "code",
   "execution_count": 11,
   "metadata": {},
   "outputs": [],
   "source": [
    "# 归一化 x = (x - u) / std\n",
    "\n",
    "from sklearn.preprocessing import StandardScaler\n",
    "scaler = StandardScaler()\n",
    "x_train_scaled = scaler.fit_transform(x_train.astype(np.float32).reshape(-1, 1)).reshape(-1, 28, 28)\n",
    "x_valid_scaled = scaler.transform(x_valid.astype(np.float32).reshape(-1, 1)).reshape(-1, 28, 28)\n",
    "x_test_scaled = scaler.transform(x_test.astype(np.float32).reshape(-1, 1)).reshape(-1, 28, 28)"
   ]
  },
  {
   "cell_type": "code",
   "execution_count": 12,
   "metadata": {},
   "outputs": [
    {
     "name": "stdout",
     "output_type": "stream",
     "text": [
      "Train on 55000 samples, validate on 5000 samples\n",
      "Epoch 1/10\n",
      "55000/55000 [==============================] - 10s 175us/sample - loss: 2.2804 - accuracy: 0.1395 - val_loss: 2.1259 - val_accuracy: 0.1992\n",
      "Epoch 2/10\n",
      "55000/55000 [==============================] - 9s 158us/sample - loss: 1.6196 - accuracy: 0.3015 - val_loss: 1.2045 - val_accuracy: 0.4710\n",
      "Epoch 3/10\n",
      "55000/55000 [==============================] - 9s 161us/sample - loss: 1.0130 - accuracy: 0.5614 - val_loss: 1.0652 - val_accuracy: 0.5406\n",
      "Epoch 4/10\n",
      "55000/55000 [==============================] - 8s 152us/sample - loss: 0.8298 - accuracy: 0.6416 - val_loss: 0.7993 - val_accuracy: 0.6568\n",
      "Epoch 5/10\n",
      "55000/55000 [==============================] - 8s 151us/sample - loss: 0.7500 - accuracy: 0.6823 - val_loss: 0.7111 - val_accuracy: 0.7212\n",
      "Epoch 6/10\n",
      "55000/55000 [==============================] - 8s 153us/sample - loss: 0.6596 - accuracy: 0.7777 - val_loss: 0.5980 - val_accuracy: 0.8050\n",
      "Epoch 7/10\n",
      "55000/55000 [==============================] - 8s 153us/sample - loss: 0.6640 - accuracy: 0.7818 - val_loss: 0.7457 - val_accuracy: 0.7612\n",
      "Epoch 8/10\n",
      "55000/55000 [==============================] - 9s 155us/sample - loss: 0.9645 - accuracy: 0.6455 - val_loss: 0.8289 - val_accuracy: 0.6902\n",
      "Epoch 9/10\n",
      "55000/55000 [==============================] - 9s 155us/sample - loss: 0.8734 - accuracy: 0.6600 - val_loss: 0.7051 - val_accuracy: 0.7266\n",
      "Epoch 10/10\n",
      "55000/55000 [==============================] - 9s 156us/sample - loss: 0.7219 - accuracy: 0.7218 - val_loss: 0.7349 - val_accuracy: 0.7000\n"
     ]
    }
   ],
   "source": [
    "# TensorBoard, EarlyStopping, ModelCheckpoint\n",
    "logdir = \"./callbacks\"\n",
    "if not os.path.exists(logdir):\n",
    "    os.mkdir(logdir)\n",
    "output_model_file = os.path.join(logdir, \"fashion_mnist_model.h5\")\n",
    "callbacks = [\n",
    "    keras.callbacks.TensorBoard(logdir),\n",
    "    keras.callbacks.EarlyStopping(patience=5, min_delta=1e-3),\n",
    "    keras.callbacks.ModelCheckpoint(output_model_file, save_best_only=True)\n",
    "]\n",
    "history = model.fit(x_train_scaled, y_train, epochs=10, validation_data=(x_valid_scaled, y_valid), callbacks = callbacks)"
   ]
  },
  {
   "cell_type": "code",
   "execution_count": 6,
   "metadata": {},
   "outputs": [
    {
     "data": {
      "image/png": "[encoded data removed]",
      "text/plain": [
       "<Figure size 576x360 with 1 Axes>"
      ]
     },
     "metadata": {
      "needs_background": "light"
     },
     "output_type": "display_data"
    }
   ],
   "source": [
    "def plot_learning_curves(history):\n",
    "    pd.DataFrame(history.history).plot(figsize=[8, 5])\n",
    "    plt.grid(True)\n",
    "    plt.gca().set_ylim(0, 1)\n",
    "    plt.show()\n",
    "    \n",
    "plot_learning_curves(history)\n",
    "# 2.0alpha旧版本存在梯度消失的问题\n",
    "# 1.参数众多，训练不充分\n",
    "# 2.梯度消失->链式法则->复合函数f(g(h(x)))\n",
    "\n",
    "# 层次太深也会导致效果变差，30层效果就差了些，40层就更差了"
   ]
  },
  {
   "cell_type": "code",
   "execution_count": null,
   "metadata": {},
   "outputs": [],
   "source": [
    "model.evaluate(x_test_scaled, y_test)"
   ]
  },
  {
   "cell_type": "code",
   "execution_count": null,
   "metadata": {},
   "outputs": [],
   "source": []
  }
 ],
 "metadata": {
  "kernelspec": {
   "display_name": "Python 3",
   "language": "python",
   "name": "python3"
  },
  "language_info": {
   "codemirror_mode": {
    "name": "ipython",
    "version": 3
   },
   "file_extension": ".py",
   "mimetype": "text/x-python",
   "name": "python",
   "nbconvert_exporter": "python",
   "pygments_lexer": "ipython3",
   "version": "3.7.4"
  }
 },
 "nbformat": 4,
 "nbformat_minor": 4
}
